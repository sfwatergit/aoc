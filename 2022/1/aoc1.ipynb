{
 "cells": [
  {
   "cell_type": "code",
   "execution_count": 10,
   "id": "7b06e15e",
   "metadata": {},
   "outputs": [],
   "source": [
    "import heapq"
   ]
  },
  {
   "cell_type": "code",
   "execution_count": 12,
   "id": "d270c035",
   "metadata": {},
   "outputs": [
    {
     "data": {
      "text/plain": [
       "67633"
      ]
     },
     "execution_count": 12,
     "metadata": {},
     "output_type": "execute_result"
    }
   ],
   "source": [
    "# Part 1\n",
    "\n",
    "max_so_far = 0\n",
    "cur_tot = 0\n",
    "\n",
    "with open('../input/1.txt','r') as f:\n",
    "    for i in f.readlines():\n",
    "        if i != '\\n': \n",
    "            cur_tot+=int(i)\n",
    "        else:\n",
    "            if cur_tot > max_so_far:\n",
    "                max_so_far = cur_tot\n",
    "            cur_tot=0\n",
    "max_so_far"
   ]
  },
  {
   "cell_type": "code",
   "execution_count": 28,
   "id": "c2433315",
   "metadata": {},
   "outputs": [
    {
     "data": {
      "text/plain": [
       "199628"
      ]
     },
     "execution_count": 28,
     "metadata": {},
     "output_type": "execute_result"
    }
   ],
   "source": [
    "# Part 2\n",
    "\n",
    "cur_tot = 0\n",
    "h = []\n",
    "heapq.heapify(h)\n",
    "with open('../input/1.txt','r') as f:\n",
    "    for i in f.readlines():\n",
    "        if i != '\\n': \n",
    "            cur_tot+=int(i)\n",
    "        else:\n",
    "            heapq.heappush(h,-cur_tot)\n",
    "            cur_tot = 0\n",
    "\n",
    "sum([-heapq.heappop(h) for i in range(3)])"
   ]
  },
  {
   "cell_type": "code",
   "execution_count": null,
   "id": "af604dc6",
   "metadata": {},
   "outputs": [],
   "source": []
  }
 ],
 "metadata": {
  "kernelspec": {
   "display_name": "Python 3 (ipykernel)",
   "language": "python",
   "name": "python3"
  },
  "language_info": {
   "codemirror_mode": {
    "name": "ipython",
    "version": 3
   },
   "file_extension": ".py",
   "mimetype": "text/x-python",
   "name": "python",
   "nbconvert_exporter": "python",
   "pygments_lexer": "ipython3",
   "version": "3.10.4"
  }
 },
 "nbformat": 4,
 "nbformat_minor": 5
}
