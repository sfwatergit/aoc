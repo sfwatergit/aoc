{
 "cells": [
  {
   "cell_type": "code",
   "execution_count": 65,
   "id": "bf815213",
   "metadata": {},
   "outputs": [
    {
     "name": "stdout",
     "output_type": "stream",
     "text": [
      "Part 1: 15020\n",
      "Part 2:\n"
     ]
    },
    {
     "data": {
      "text/plain": [
       "['####.####.#..#..##..#....###...##..###..',\n",
       " '#....#....#..#.#..#.#....#..#.#..#.#..#.',\n",
       " '###..###..#..#.#....#....#..#.#..#.#..#.',\n",
       " '#....#....#..#.#.##.#....###..####.###..',\n",
       " '#....#....#..#.#..#.#....#....#..#.#....',\n",
       " '####.#.....##...###.####.#....#..#.#....']"
      ]
     },
     "execution_count": 65,
     "metadata": {},
     "output_type": "execute_result"
    }
   ],
   "source": [
    "# Part 1\n",
    "test_path = \"test.txt\"\n",
    "main_path = \"../input/10.txt\"\n",
    "\n",
    "def main(path, subroutine):\n",
    "    with open(path,'r') as f:\n",
    "        cycle = 0\n",
    "        reg = 1\n",
    "        for line in f.readlines():\n",
    "            line=line.strip(\"\\n\")\n",
    "            if line.startswith(\"noop\"):\n",
    "                cycle = subroutine(cycle, reg)\n",
    "            else:\n",
    "                _, to_add = line.split(\" \")\n",
    "                to_add = int(to_add)\n",
    "                cycle = subroutine(cycle,reg)\n",
    "                cycle = subroutine(cycle,reg)\n",
    "                reg += to_add\n",
    "\n",
    "# Part 1\n",
    "\n",
    "IMP_CYCLES = {'20':0,'60':0,'100':0,'140':0,'180':0,'220':0}\n",
    "\n",
    "\n",
    "def subroutine_1(cycle, cur_reg):\n",
    "    cycle += 1\n",
    "    s_cy = str(cycle)\n",
    "    if s_cy in IMP_CYCLES:\n",
    "        IMP_CYCLES[s_cy]=cur_reg\n",
    "    return cycle\n",
    "        \n",
    "main(main_path, subroutine_1)\n",
    "print(\"Part 1:\", sum([int(k)*v for k,v in IMP_CYCLES.items()]))\n",
    "\n",
    "\n",
    "# Part 2\n",
    "\n",
    "CRT = [['.' for _ in range(40)] for _ in range(6)]\n",
    "\n",
    "def subroutine_2(cycle, cur_reg):\n",
    "    row = cycle//40\n",
    "    col = cycle%40\n",
    "    if col in [cur_reg-1, cur_reg, cur_reg+1]:\n",
    "        CRT[row][col]='#'\n",
    "    return cycle + 1\n",
    "\n",
    "\n",
    "main(main_path, subroutine_2)\n",
    "print(\"Part 2:\")\n",
    "[\"\".join(r) for r in CRT]"
   ]
  },
  {
   "cell_type": "code",
   "execution_count": 80,
   "id": "0fe4500e",
   "metadata": {},
   "outputs": [
    {
     "name": "stdout",
     "output_type": "stream",
     "text": [
      "15020 \n",
      " # # # #   # # # #   #     #     # #     #         # # #       # #     # # #     #         #         #     #   #     #   #         #     #   #     #   #     #   # # #     # # #     #     #   #         #         #     #   #     #   #     #   #         #         #     #   #   # #   #         # # #     # # # #   # # #     #         #         #     #   #     #   #         #         #     #   #         # # # #   #           # #       # # #   # # # #   #         #     #   #         #\n"
     ]
    }
   ],
   "source": [
    "from itertools import accumulate\n",
    "import re\n",
    "\n",
    "xs = list(map(int, re.sub(r'[noop|addx]', '0', open(main_path).read()).split()))\n",
    "\n",
    "\n",
    "part1, part2 = 0, '\\n'\n",
    "for i, x in enumerate(accumulate([1]+xs), 1):\n",
    "    part1 += i*x if i%40==20 else 0\n",
    "    part2 += '#' if (i-1)%40-x in [-1,0,1] else ' '\n",
    "\n",
    "print(part1, *part2)"
   ]
  }
 ],
 "metadata": {
  "kernelspec": {
   "display_name": "Python 3 (ipykernel)",
   "language": "python",
   "name": "python3"
  },
  "language_info": {
   "codemirror_mode": {
    "name": "ipython",
    "version": 3
   },
   "file_extension": ".py",
   "mimetype": "text/x-python",
   "name": "python",
   "nbconvert_exporter": "python",
   "pygments_lexer": "ipython3",
   "version": "3.10.4"
  }
 },
 "nbformat": 4,
 "nbformat_minor": 5
}
