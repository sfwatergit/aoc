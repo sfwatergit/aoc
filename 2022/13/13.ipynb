{
 "cells": [
  {
   "cell_type": "code",
   "execution_count": 93,
   "id": "51b6084c",
   "metadata": {},
   "outputs": [],
   "source": [
    "import ast\n",
    "from itertools import zip_longest\n",
    "\n",
    "test_path = \"test.txt\"\n",
    "input_path = \"../input/13.txt\"\n",
    "\n",
    "pairs = []\n",
    "with open(input_path, 'r') as f:\n",
    "    pair = []\n",
    "    for line in f.readlines():\n",
    "        if line == \"\\n\":\n",
    "            pairs.append(pair)\n",
    "            pair = []\n",
    "            continue\n",
    "        else:\n",
    "            line = line.strip(\"\\n\")\n",
    "            pair.append(ast.literal_eval(line))\n",
    "        \n"
   ]
  },
  {
   "cell_type": "code",
   "execution_count": 94,
   "id": "06c45c24",
   "metadata": {},
   "outputs": [
    {
     "name": "stdout",
     "output_type": "stream",
     "text": [
      "Part 1: 5292\n",
      "Part 2: 23868\n"
     ]
    }
   ],
   "source": [
    "from math import prod\n",
    "\n",
    "\n",
    "# def compare(left, right):\n",
    "#     if left is None:\n",
    "#         return -1\n",
    "#     if right is None:\n",
    "#         return 1\n",
    "\n",
    "#     if isinstance(left, int) and isinstance(right, int):\n",
    "#         if left < right:\n",
    "#             return -1\n",
    "#         elif left > right:\n",
    "#             return 1\n",
    "#         else:\n",
    "#             return 0\n",
    "#     elif isinstance(left, list) and isinstance(right, list):\n",
    "#         for l2, r2 in zip_longest(left, right):\n",
    "#             if (result := compare(l2, r2)) != 0:\n",
    "#                 return result\n",
    "#         return 0\n",
    "#     else:\n",
    "#         l2 = [left] if isinstance(left, int) else left\n",
    "#         r2 = [right] if isinstance(right, int) else right\n",
    "#         return compare(l2, r2)\n",
    "    \n",
    "def compare(l,r):\n",
    "\n",
    "    l = l if isinstance(l, list) else [l]\n",
    "    r = r if isinstance(r, list) else [r]\n",
    "    for l2, r2 in zip(l, r):\n",
    "        if isinstance(l2, list) or isinstance(r2, list):\n",
    "            rec = compare(l2, r2)\n",
    "        else:\n",
    "            rec = r2 - l2\n",
    "        if rec != 0:\n",
    "            return rec\n",
    "    return len(r) - len(l)\n",
    "#     l = l if isinstance(l,list) else [l]\n",
    "#     r = r if isinstance(r,list) else [r]\n",
    "#     for l2, r2 in zip(l, r):\n",
    "        \n",
    "#     if isinstance(ls,int) and isinstance(rs,int):\n",
    "#         if ls == rs:\n",
    "#             pass\n",
    "#         else:\n",
    "#             comp = ls<rs\n",
    "#             if comp:\n",
    "#                 print(\"Left side is smaller, so inputs ARE in the right order\")\n",
    "#                 output = True\n",
    "#             else:\n",
    "#                 print(\"Right side is smaller so inputs are NOT in the right order\")\n",
    "#                 output = False\n",
    "#     el\n",
    "\n",
    "#         for l,r in zip(ls,rs):\n",
    "#             if ls is None:\n",
    "#                 print(\"Left side ran out of items\")\n",
    "#                 output = True\n",
    "#                 break\n",
    "#             elif rs is None:\n",
    "#                 print(\"Right side ran out of items\")\n",
    "#                 output = False\n",
    "#                 break\n",
    "#             else:\n",
    "#                 compare(l,r)\n",
    "#     elif isinstance(ls,int) and isinstance(rs,list):\n",
    "#         print(f\"mixed types convert {ls} to [{ls}] and retry comparison\")\n",
    "#         return compare([ls],rs)\n",
    "#     elif isinstance(ls,list) and isinstance(rs,int):\n",
    "#         print(f\"mixed types convert {rs} to [{rs}] and retry comparison\")\n",
    "#         return compare(ls,[rs])\n",
    "#     return output\n",
    "\n",
    "packets = sorted([y for x in pairs for y in x] + [[[2]], [[6]]], key=cmp_to_key(compare), reverse=True)\n",
    "print(f\"Part 1: {sum(i for i, (l, r) in enumerate(pairs, 1) if compare(l, r) > 0)}\")\n",
    "print(f\"Part 2: {prod([n for n, packet in enumerate(packets, 1) if packet in ([[2]], [[6]])])}\")\n",
    "\n",
    "# sols = []\n",
    "# for idx, (left,right) in enumerate(pairs,1):\n",
    "#     comp = compare(left,right)\n",
    "#     print(idx,comp)\n",
    "#     if comp:\n",
    "#         sols.append(idx)\n",
    "# sum(sols)"
   ]
  },
  {
   "cell_type": "code",
   "execution_count": 81,
   "id": "925311e2",
   "metadata": {},
   "outputs": [
    {
     "ename": "TypeError",
     "evalue": "cmp_to_key() missing required argument 'mycmp' (pos 1)",
     "output_type": "error",
     "traceback": [
      "\u001b[0;31m---------------------------------------------------------------------------\u001b[0m",
      "\u001b[0;31mTypeError\u001b[0m                                 Traceback (most recent call last)",
      "Input \u001b[0;32mIn [81]\u001b[0m, in \u001b[0;36m<cell line: 3>\u001b[0;34m()\u001b[0m\n\u001b[1;32m      1\u001b[0m \u001b[38;5;28;01mfrom\u001b[39;00m \u001b[38;5;21;01mfunctools\u001b[39;00m \u001b[38;5;28;01mimport\u001b[39;00m cmp_to_key\n\u001b[0;32m----> 3\u001b[0m \u001b[43mcmp_to_key\u001b[49m\u001b[43m(\u001b[49m\u001b[43m)\u001b[49m\n",
      "\u001b[0;31mTypeError\u001b[0m: cmp_to_key() missing required argument 'mycmp' (pos 1)"
     ]
    }
   ],
   "source": [
    "from functools import cmp_to_key\n",
    "\n",
    "cmp_to_key()"
   ]
  },
  {
   "cell_type": "code",
   "execution_count": 91,
   "id": "5dda7359",
   "metadata": {},
   "outputs": [
    {
     "name": "stdout",
     "output_type": "stream",
     "text": [
      "List is too long (1 elements, expected <= 10)\n",
      "List is too long (3 elements, expected <= 10)\n"
     ]
    }
   ],
   "source": [
    "for a,b in list(zip_longest(*pairs[1])):\n",
    "    if (n := len(a)) < 10:\n",
    "        print(f\"List is too long ({n} elements, expected <= 10)\")"
   ]
  },
  {
   "cell_type": "code",
   "execution_count": 88,
   "id": "991593a9",
   "metadata": {},
   "outputs": [
    {
     "ename": "SyntaxError",
     "evalue": "invalid syntax (311900943.py, line 1)",
     "output_type": "error",
     "traceback": [
      "\u001b[0;36m  Input \u001b[0;32mIn [88]\u001b[0;36m\u001b[0m\n\u001b[0;31m    a:=2\u001b[0m\n\u001b[0m     ^\u001b[0m\n\u001b[0;31mSyntaxError\u001b[0m\u001b[0;31m:\u001b[0m invalid syntax\n"
     ]
    }
   ],
   "source": []
  },
  {
   "cell_type": "code",
   "execution_count": null,
   "id": "e36d4e02",
   "metadata": {},
   "outputs": [],
   "source": []
  }
 ],
 "metadata": {
  "kernelspec": {
   "display_name": "Python 3 (ipykernel)",
   "language": "python",
   "name": "python3"
  },
  "language_info": {
   "codemirror_mode": {
    "name": "ipython",
    "version": 3
   },
   "file_extension": ".py",
   "mimetype": "text/x-python",
   "name": "python",
   "nbconvert_exporter": "python",
   "pygments_lexer": "ipython3",
   "version": "3.10.4"
  }
 },
 "nbformat": 4,
 "nbformat_minor": 5
}
