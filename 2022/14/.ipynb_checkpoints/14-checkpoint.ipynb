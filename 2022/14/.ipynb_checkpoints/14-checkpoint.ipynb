{
 "cells": [
  {
   "cell_type": "code",
   "execution_count": 93,
   "id": "30b562ef",
   "metadata": {},
   "outputs": [],
   "source": [
    "import numpy as np\n",
    "\n",
    "test_path = \"test.txt\"\n",
    "input_path = \"../input/14.txt\"\n",
    "\n",
    "cur_path = input_path\n",
    "\n",
    "with open(cur_path,\"r\") as f:\n",
    "    data = f.read().splitlines()\n",
    "    \n",
    "paths = [[tuple([int(i) for i in p.split(\",\")]) for p in d.split(\" -> \")] for d in data]"
   ]
  },
  {
   "cell_type": "code",
   "execution_count": 94,
   "id": "8f3bc16e",
   "metadata": {},
   "outputs": [
    {
     "name": "stdout",
     "output_type": "stream",
     "text": [
      "Part 1 =  832\n",
      "Part 2 =  27601\n"
     ]
    }
   ],
   "source": [
    "def add_rocks(fro, to):\n",
    "    rocks.add(fro)\n",
    "    rocks.add(to)\n",
    "    if fro[0] == to[0] and fro[1] > to[1]:\n",
    "        for i in range(1, fro[1] - to[1]):\n",
    "            rocks.add((fro[0], fro[1] - i))\n",
    "    if fro[0] == to[0] and fro[1] < to[1]:\n",
    "        for i in range(1, to[1] - fro[1]):\n",
    "            rocks.add((fro[0], to[1] - i))\n",
    "\n",
    "    if fro[1] == to[1] and fro[0] > to[0]:\n",
    "        for i in range(1, fro[0] - to[0]):\n",
    "            rocks.add((fro[0] - i, to[1]))\n",
    "    if fro[1] == to[1] and fro[0] < to[0]:\n",
    "        for i in range(1, to[0] - fro[0]):\n",
    "            rocks.add((to[0] - i, to[1]))      \n",
    "        \n",
    "\n",
    "\n",
    "def sand_rest_pos(ipos):\n",
    "    curr = ipos\n",
    "    while True:\n",
    "        new = (curr[0],curr[1]+1)\n",
    "        nx,ny = new\n",
    "        if new[1]>rock_bottom+1:\n",
    "            return curr\n",
    "        \n",
    "        if new in rocks or new in sand:\n",
    "            new = (curr[0]-1,curr[1]+1)\n",
    "            nx,ny = new\n",
    "            if new in rocks or new in sand:\n",
    "                new = (curr[0] + 1, curr[1]+1)\n",
    "                if new in rocks or new in sand:\n",
    "                    return curr\n",
    "                else:\n",
    "                    curr = new\n",
    "            else:\n",
    "                curr = new\n",
    "        else:\n",
    "            curr = new\n",
    "            \n",
    "\n",
    "rocks = set()\n",
    "for path in paths:\n",
    "    for fro,to in zip(path,path[1:]):\n",
    "        add_rocks(fro,to)\n",
    "        \n",
    "        \n",
    "\n",
    "rock_bottom = max([x[1] for x in rocks])\n",
    "\n",
    "\n",
    "start_pos = (500,0)\n",
    "falling_off = False\n",
    "\n",
    "sand = set()\n",
    "num = 0\n",
    "while True:\n",
    "    s = sand_rest_pos(start_pos)\n",
    "    if not s == start_pos:\n",
    "        sand.add(s)\n",
    "        if (s[1]>rock_bottom and not falling_off):\n",
    "            print(\"Part 1 = \", num)\n",
    "            falling_off = True\n",
    "        num +=1\n",
    "    else:\n",
    "        num +=1\n",
    "        print(\"Part 2 = \",num)\n",
    "        break\n",
    "    \n"
   ]
  }
 ],
 "metadata": {
  "kernelspec": {
   "display_name": "Python 3 (ipykernel)",
   "language": "python",
   "name": "python3"
  },
  "language_info": {
   "codemirror_mode": {
    "name": "ipython",
    "version": 3
   },
   "file_extension": ".py",
   "mimetype": "text/x-python",
   "name": "python",
   "nbconvert_exporter": "python",
   "pygments_lexer": "ipython3",
   "version": "3.10.4"
  }
 },
 "nbformat": 4,
 "nbformat_minor": 5
}
