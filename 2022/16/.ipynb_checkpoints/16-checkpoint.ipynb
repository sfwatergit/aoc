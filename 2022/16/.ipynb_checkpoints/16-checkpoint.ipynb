{
 "cells": [
  {
   "cell_type": "code",
   "execution_count": 58,
   "id": "c958cd32",
   "metadata": {},
   "outputs": [],
   "source": [
    "import re\n",
    "from dataclasses import dataclass\n",
    "from functools import cache\n",
    "\n",
    "\n",
    "test_path = \"test.txt\"\n",
    "input_path = \"../input/16.txt\"\n",
    "\n",
    "with open(input_path, \"r\") as f:\n",
    "    data = f.read().splitlines()\n",
    "\n",
    "\n",
    "@dataclass(frozen=True, order=True)\n",
    "class Valve():\n",
    "    id: str\n",
    "    rate: int\n",
    "    leads_to: frozenset[str]\n",
    "\n",
    "        \n",
    "def parse_input(data)->dict[str,Valve]:\n",
    "    pat = re.compile(r\"Valve ([A-Z]{2}) has flow rate=(\\d+);.+[valve]s? (.+)\")\n",
    "    valves = {}\n",
    "    for line in data:\n",
    "        valve,rate,leads_to = pat.findall(line)[0]\n",
    "        valves[valve]=Valve(valve,int(rate),frozenset(x.strip() for x in leads_to.split(\",\")))\n",
    "    return valves\n",
    "\n",
    "valves = parse_input(data)\n"
   ]
  },
  {
   "cell_type": "code",
   "execution_count": 59,
   "id": "b9814cfd",
   "metadata": {},
   "outputs": [
    {
     "data": {
      "text/plain": [
       "2189"
      ]
     },
     "execution_count": 59,
     "metadata": {},
     "output_type": "execute_result"
    }
   ],
   "source": [
    "@cache\n",
    "def move(cur_valve_id, min_remaining, open_valves:set[str], el=False):\n",
    "    # if time elapsed then return\n",
    "    if min_remaining <= 0:\n",
    "        if el:\n",
    "            return move('AA',26,open_valves)\n",
    "        else:\n",
    "            return 0\n",
    "    else:\n",
    "        # valves release pressure over current minute\n",
    "        most_relief = 0\n",
    "        cur_valve = valves[cur_valve_id]\n",
    "\n",
    "        for next_valve in cur_valve.leads_to:\n",
    "            most_relief = max(most_relief, move(next_valve,min_remaining-1,open_valves,el))\n",
    "\n",
    "        # otherwise see how to maximize next move\n",
    "        if cur_valve_id not in open_valves and cur_valve.rate>0 and min_remaining >0:\n",
    "            opened = set(open_valves)\n",
    "            opened.add(cur_valve_id)\n",
    "            min_remaining-=1\n",
    "            total_released = min_remaining*cur_valve.rate\n",
    "            for next_valve in cur_valve.leads_to:\n",
    "                most_relief = max(most_relief, total_released+move(next_valve,min_remaining-1,frozenset(opened),el))\n",
    "        return most_relief\n",
    "    \n",
    "cur_valve_id = 'AA'\n",
    "el = True\n",
    "\n",
    "move(cur_valve_id, 26, frozenset(),el)\n"
   ]
  }
 ],
 "metadata": {
  "kernelspec": {
   "display_name": "Python 3 (ipykernel)",
   "language": "python",
   "name": "python3"
  },
  "language_info": {
   "codemirror_mode": {
    "name": "ipython",
    "version": 3
   },
   "file_extension": ".py",
   "mimetype": "text/x-python",
   "name": "python",
   "nbconvert_exporter": "python",
   "pygments_lexer": "ipython3",
   "version": "3.10.4"
  }
 },
 "nbformat": 4,
 "nbformat_minor": 5
}
