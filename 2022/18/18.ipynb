{
 "cells": [
  {
   "cell_type": "code",
   "execution_count": 63,
   "id": "1c45e904",
   "metadata": {},
   "outputs": [
    {
     "data": {
      "text/plain": [
       "64"
      ]
     },
     "execution_count": 63,
     "metadata": {},
     "output_type": "execute_result"
    }
   ],
   "source": [
    "from typing import List\n",
    "from dataclasses import dataclass, field\n",
    "import numpy as np\n",
    "from collections import defaultdict\n",
    "\n",
    "test_path = \"test.txt\"\n",
    "input_path = \"../input/18.txt\"\n",
    "\n",
    "with open(test_path,'r') as f:\n",
    "    data = f.read().splitlines()\n",
    "    \n",
    "@dataclass\n",
    "class Cube:\n",
    "    coord: list[int]\n",
    "    neighbors: List= field(default_factory=lambda: [False]*6)\n",
    "    \n",
    "cubes = [Cube(list(map(int,l.split(\",\")))) for l in data]\n",
    "\n",
    "points = {tuple(cube.coord):cube for cube in cubes}\n",
    "space = {}\n",
    "\n",
    "for cube in cubes:\n",
    "    x,y,z = cube.coord\n",
    "    for q,r,d in [(0,1,-1),(1,0,1)]:\n",
    "        nx = cube.coord[0]+d\n",
    "        new_x = (nx,y,z)\n",
    "        ny = cube.coord[1]+d\n",
    "        new_y = (x,ny,z)\n",
    "        nz = cube.coord[2]+d\n",
    "        new_z = (x,y,nz)\n",
    "        \n",
    "        if new_x in points:\n",
    "            cube.neighbors[0+q*3]=True\n",
    "            points[new_x].neighbors[0+r*3]=True\n",
    "\n",
    "                \n",
    "        if new_y in points:\n",
    "            cube.neighbors[1+q*3]=True\n",
    "            points[new_y].neighbors[1+r*3]=True\n",
    "        if new_z in points:\n",
    "            cube.neighbors[2+q*3]=True\n",
    "            points[new_z].neighbors[2+r*3]=True\n",
    "\n",
    "sum([sum(~np.array(cube.neighbors)) for cube in cubes])\n"
   ]
  },
  {
   "cell_type": "code",
   "execution_count": 64,
   "id": "b6362ea0",
   "metadata": {},
   "outputs": [
    {
     "name": "stdout",
     "output_type": "stream",
     "text": [
      "58\n"
     ]
    }
   ],
   "source": [
    "mins = [min(c[i] for c in points) for i in range(3)]\n",
    "maxs = [max(c[i] for c in points) for i in range(3)]\n",
    "\n",
    "\n",
    "pockets,outside = set(),set()\n",
    "\n",
    "def floodfill(cc):\n",
    "    todo = [cc]\n",
    "    connected = set()\n",
    "    while todo:\n",
    "        c = todo.pop()\n",
    "        for n,i in free_neighbors(c):\n",
    "            if n[i]<mins[i] or n[i]>maxs[i]:\n",
    "                outside.update(connected)\n",
    "                return True\n",
    "            if n not in connected:\n",
    "                connected.add(n)\n",
    "                todo.append(n)\n",
    "    pockets.update(connected)\n",
    "    return False\n",
    "\n",
    "def free_neighbors(point):\n",
    "    for i in range(3):\n",
    "        for d in (-1, 1):\n",
    "            p = list(point)\n",
    "            p[i] += d\n",
    "            p = tuple(p)\n",
    "            if p not in points:\n",
    "                yield p, i\n",
    "                \n",
    "total = 0\n",
    "for p in points:\n",
    "    for n,_ in free_neighbors(p):\n",
    "        if n not in pockets and (n in outside or floodfill(n)):\n",
    "            total+=1\n",
    "print(total)\n",
    "    "
   ]
  },
  {
   "cell_type": "code",
   "execution_count": 65,
   "id": "d5ff2998",
   "metadata": {},
   "outputs": [
    {
     "data": {
      "text/plain": [
       "set()"
      ]
     },
     "execution_count": 65,
     "metadata": {},
     "output_type": "execute_result"
    }
   ],
   "source": [
    "pockets"
   ]
  },
  {
   "cell_type": "code",
   "execution_count": null,
   "id": "7f273853",
   "metadata": {},
   "outputs": [],
   "source": []
  }
 ],
 "metadata": {
  "kernelspec": {
   "display_name": "Python 3 (ipykernel)",
   "language": "python",
   "name": "python3"
  },
  "language_info": {
   "codemirror_mode": {
    "name": "ipython",
    "version": 3
   },
   "file_extension": ".py",
   "mimetype": "text/x-python",
   "name": "python",
   "nbconvert_exporter": "python",
   "pygments_lexer": "ipython3",
   "version": "3.10.4"
  }
 },
 "nbformat": 4,
 "nbformat_minor": 5
}
