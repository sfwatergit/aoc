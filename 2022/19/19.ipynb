{
 "cells": [
  {
   "cell_type": "code",
   "execution_count": 3,
   "id": "8b2bbe66",
   "metadata": {},
   "outputs": [
    {
     "data": {
      "text/plain": [
       "['Blueprint 1: Each ore robot costs 4 ore. Each clay robot costs 2 ore. Each obsidian robot costs 3 ore and 14 clay. Each geode robot costs 2 ore and 7 obsidian.',\n",
       " 'Blueprint 2: Each ore robot costs 2 ore. Each clay robot costs 3 ore. Each obsidian robot costs 3 ore and 8 clay. Each geode robot costs 3 ore and 12 obsidian.']"
      ]
     },
     "execution_count": 3,
     "metadata": {},
     "output_type": "execute_result"
    }
   ],
   "source": [
    "import re\n",
    "from dataclasses import dataclass\n",
    "from collections import namedtuple\n",
    "from typing import Tuple\n",
    "\n",
    "test_path = \"test.txt\"\n",
    "input_path = \"../input/19.txt\"\n",
    "\n",
    "with open(test_path,'r') as f:\n",
    "    data = f.read().splitlines()\n",
    "    \n",
    "data\n"
   ]
  },
  {
   "cell_type": "code",
   "execution_count": null,
   "id": "07dfa699",
   "metadata": {},
   "outputs": [],
   "source": []
  },
  {
   "cell_type": "code",
   "execution_count": 18,
   "id": "abdfbc0f",
   "metadata": {},
   "outputs": [],
   "source": [
    "\n",
    "@dataclass\n",
    "class Cost:\n",
    "    o: int\n",
    "    c: int\n",
    "    b: int\n",
    "    g: int = 0\n",
    "\n",
    "@dataclass\n",
    "class Blueprint:\n",
    "    id: int\n",
    "    ore_cost: Cost\n",
    "    clay_cost: Cost\n",
    "    obsidian_cost: Cost\n",
    "    geode_cost: Cost\n",
    "\n",
    "pat = re.compile(\"Blueprint (\\d+): .* costs (\\d+) ore. .* costs (\\d+) ore. .* costs (\\d+) ore and (\\d+) clay. .* costs (\\d+) ore and (\\d+) obsidian.\")\n",
    "\n",
    "bps = []\n",
    "for line in data:\n",
    "    bpid, oc,cc, oco, occ, gco, gcob = re.findall(pat, line)[0]\n",
    "    bps.append(Blueprint(int(bpid), Cost(int(oc),0,0),Cost(int(cc),0,0), Cost(int(oco), int(occ),0), Cost(int(gco),0, int(gcob))))"
   ]
  },
  {
   "cell_type": "code",
   "execution_count": 25,
   "id": "75246af0",
   "metadata": {},
   "outputs": [],
   "source": [
    "bp = bps[0]\n",
    "\n",
    "def possible_robot_res_combos(resources):\n",
    "    for r_type in ['o','c','b','g']:\n",
    "        \n",
    "\n",
    "def step(resources,robots,mins_remaining):\n",
    "    rr_combos = possible_robot_res_combos()\n",
    "    # mine resources\n",
    "    for robot,count in robots.items():\n",
    "        resources.__dict__[robot]+=1*count\n",
    "    return resources"
   ]
  },
  {
   "cell_type": "code",
   "execution_count": 27,
   "id": "df0c22aa",
   "metadata": {},
   "outputs": [
    {
     "data": {
      "text/plain": [
       "Cost(o=2, c=2, b=1, g=3)"
      ]
     },
     "execution_count": 27,
     "metadata": {},
     "output_type": "execute_result"
    }
   ],
   "source": [
    "step(Cost(0,0,0),{'o':1,'c':2,'b':1,'g':3},24)"
   ]
  },
  {
   "cell_type": "code",
   "execution_count": 29,
   "id": "25c0ca59",
   "metadata": {},
   "outputs": [
    {
     "data": {
      "text/plain": [
       "Blueprint(id=1, ore_cost=Cost(o=4, c=0, b=0, g=0), clay_cost=Cost(o=2, c=0, b=0, g=0), obsidian_cost=Cost(o=3, c=14, b=0, g=0), geode_cost=Cost(o=2, c=0, b=7, g=0))"
      ]
     },
     "execution_count": 29,
     "metadata": {},
     "output_type": "execute_result"
    }
   ],
   "source": [
    "bps[0]"
   ]
  },
  {
   "cell_type": "code",
   "execution_count": null,
   "id": "35d4d782",
   "metadata": {},
   "outputs": [],
   "source": []
  }
 ],
 "metadata": {
  "kernelspec": {
   "display_name": "Python 3 (ipykernel)",
   "language": "python",
   "name": "python3"
  },
  "language_info": {
   "codemirror_mode": {
    "name": "ipython",
    "version": 3
   },
   "file_extension": ".py",
   "mimetype": "text/x-python",
   "name": "python",
   "nbconvert_exporter": "python",
   "pygments_lexer": "ipython3",
   "version": "3.10.4"
  }
 },
 "nbformat": 4,
 "nbformat_minor": 5
}
