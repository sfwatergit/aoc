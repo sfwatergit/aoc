{
 "cells": [
  {
   "cell_type": "code",
   "execution_count": 25,
   "id": "0af140f2",
   "metadata": {},
   "outputs": [
    {
     "data": {
      "text/plain": [
       "11767"
      ]
     },
     "execution_count": 25,
     "metadata": {},
     "output_type": "execute_result"
    }
   ],
   "source": [
    "# Part 1\n",
    "\n",
    "YOU_TO_RSP = {\"X\":\"R\",\"Y\":\"P\",\"Z\":\"S\"}\n",
    "\n",
    "OP_TO_RSP = {\"A\":\"R\",\"B\":\"P\",\"C\":\"S\"}\n",
    "\n",
    "GAME_TO_PTS =     {\n",
    "     (\"R\",\"R\"):3,\n",
    "     (\"R\",\"P\"):0,\n",
    "     (\"R\",\"S\"):6,\n",
    "     (\"S\",\"R\"):0,\n",
    "     (\"S\",\"P\"):6,\n",
    "     (\"S\",\"S\"):3,\n",
    "     (\"P\",\"R\"):6,\n",
    "     (\"P\",\"P\"):3,\n",
    "     (\"P\",\"S\"):0\n",
    "                    }\n",
    "\n",
    "CHOICE_TO_PTS = {\n",
    "    \"R\":1,\n",
    "    \"P\":2,\n",
    "    \"S\":3\n",
    "}\n",
    "\n",
    "\n",
    "total = 0\n",
    "with open(\"../input/2.txt\", 'r') as f:\n",
    "    for row in f.readlines():\n",
    "        op,you = row.strip(\"\\n\").split(\" \")\n",
    "        op,you = OP_TO_RSP[op],YOU_TO_RSP[you]\n",
    "        total+=CHOICE_TO_PTS[you]+GAME_TO_PTS[(you,op)]\n",
    "total"
   ]
  },
  {
   "cell_type": "code",
   "execution_count": 32,
   "id": "c32e3c74",
   "metadata": {},
   "outputs": [
    {
     "data": {
      "text/plain": [
       "13886"
      ]
     },
     "execution_count": 32,
     "metadata": {},
     "output_type": "execute_result"
    }
   ],
   "source": [
    "# Part 2\n",
    "\n",
    "YOU_TO_WDL = {\"X\":\"L\",\"Y\":\"D\",\"Z\":\"W\"}\n",
    "\n",
    "OP_TO_RSP = {\"A\":\"R\",\"B\":\"P\",\"C\":\"S\"}\n",
    "\n",
    "\n",
    "GAME_TO_CHOICE =     {\n",
    "     (\"R\",\"D\"):\"R\",\n",
    "     (\"R\",\"L\"):\"S\",\n",
    "     (\"R\",\"W\"):\"P\",\n",
    "     (\"S\",\"L\"):\"P\",\n",
    "     (\"S\",\"W\"):\"R\",\n",
    "     (\"S\",\"D\"):\"S\",\n",
    "     (\"P\",\"W\"):\"S\",\n",
    "     (\"P\",\"D\"):\"P\",\n",
    "     (\"P\",\"L\"):\"R\"\n",
    "                       }\n",
    "\n",
    "CHOICE_TO_PTS = {\n",
    "    \"R\":1,\n",
    "    \"P\":2,\n",
    "    \"S\":3\n",
    "}\n",
    "\n",
    "WDL_TO_PTS = {\n",
    "    \"W\":6,\n",
    "    \"D\":3,\n",
    "    \"L\":0\n",
    "}\n",
    "\n",
    "\n",
    "total = 0\n",
    "with open(\"../input/2.txt\", 'r') as f:\n",
    "    for row in f.readlines():\n",
    "        op,you = row.strip(\"\\n\").split(\" \")\n",
    "        op,wdl = OP_TO_RSP[op],YOU_TO_WDL[you]\n",
    "        game = (op,wdl)\n",
    "        choice = GAME_TO_CHOICE[game]\n",
    "        total += CHOICE_TO_PTS[choice] + WDL_TO_PTS[wdl]\n",
    "total"
   ]
  }
 ],
 "metadata": {
  "kernelspec": {
   "display_name": "Python 3 (ipykernel)",
   "language": "python",
   "name": "python3"
  },
  "language_info": {
   "codemirror_mode": {
    "name": "ipython",
    "version": 3
   },
   "file_extension": ".py",
   "mimetype": "text/x-python",
   "name": "python",
   "nbconvert_exporter": "python",
   "pygments_lexer": "ipython3",
   "version": "3.10.4"
  }
 },
 "nbformat": 4,
 "nbformat_minor": 5
}
