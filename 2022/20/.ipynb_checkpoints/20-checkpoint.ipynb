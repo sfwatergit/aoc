{
 "cells": [
  {
   "cell_type": "code",
   "execution_count": 88,
   "id": "6a2e4fa2",
   "metadata": {},
   "outputs": [],
   "source": [
    "import pathlib\n",
    "import numpy as np\n",
    "import os\n",
    "\n",
    "curr_challenge = pathlib.Path(\"\").absolute().stem\n",
    "\n",
    "input_filepath_str = f\"../input/{curr_challenge}.txt\"\n",
    "test_filepath_str = \"test.txt\"\n",
    "\n",
    "lmap = lambda *a: list(map(*a))\n",
    "\n",
    "def read(path_str):\n",
    "    with open(path_str) as f:\n",
    "        s = f.read().splitlines()\n",
    "    return lmap(int,s)\n",
    "\n",
    "\n",
    "inp = read(input_filepath_str)\n",
    "labelled_numbers = [(i, int(l)) for i, l in enumerate(inp)]\n"
   ]
  },
  {
   "cell_type": "code",
   "execution_count": 89,
   "id": "a15ed5dc",
   "metadata": {},
   "outputs": [
    {
     "name": "stdout",
     "output_type": "stream",
     "text": [
      "27726\n"
     ]
    }
   ],
   "source": [
    "labelled_numbers\n",
    "file_size = len(labelled_numbers)\n",
    "\n",
    "for id_to_move in range(file_size):\n",
    "    old_idx = None\n",
    "    for i, (k, n) in enumerate(labelled_numbers):\n",
    "        if k == id_to_move:\n",
    "            old_idx = i\n",
    "            break\n",
    "    assert old_idx is not None\n",
    "    new_idx = (old_idx + n) % (file_size - 1)\n",
    "    labelled_numbers.pop(old_idx)\n",
    "    labelled_numbers.insert(new_idx, (k, n))\n",
    "final_numbers = [n for _, n in labelled_numbers]\n",
    "zero_idx = final_numbers.index(0)\n",
    "print(sum(final_numbers[(zero_idx + x) % file_size] for x in (1000, 2000, 3000)))"
   ]
  },
  {
   "cell_type": "code",
   "execution_count": 83,
   "id": "0c51ba52",
   "metadata": {},
   "outputs": [
    {
     "name": "stdout",
     "output_type": "stream",
     "text": [
      "[1, 2, -3, 4, 0, 3, -2]\n",
      "3\n"
     ]
    }
   ],
   "source": [
    "ar = inp\n",
    "ar2 = ar.copy()\n",
    "\n",
    "for i in range(len(ar)):    \n",
    "    nn = ar[i]\n",
    "    idx = ar2.index(nn)\n",
    "    del ar2[idx]\n",
    "    \n",
    "    target = (idx+(nn))\n",
    "    if target>len(ar):\n",
    "        target %= len(ar)-1\n",
    "    \n",
    "#     if target == 0:\n",
    "#         ar2.append(nn)\n",
    "#         comb = ar2\n",
    "#     else:\n",
    "#         comb = (ar2[:idx]+ar2[idx:])\n",
    "#         comb.insert(target,nn)\n",
    "    ar2 = comb\n",
    "#     print(ar2)\n",
    "print(ar2)\n",
    "t = ar2\n",
    "idx0 = ar2.index(0)\n",
    "print(t[(idx0+1000) % len(t)] + t[(idx0+2000) % len(t)] + t[(idx0+3000) % len(t)])"
   ]
  },
  {
   "cell_type": "code",
   "execution_count": null,
   "id": "7051282e",
   "metadata": {},
   "outputs": [],
   "source": []
  }
 ],
 "metadata": {
  "kernelspec": {
   "display_name": "Python 3 (ipykernel)",
   "language": "python",
   "name": "python3"
  },
  "language_info": {
   "codemirror_mode": {
    "name": "ipython",
    "version": 3
   },
   "file_extension": ".py",
   "mimetype": "text/x-python",
   "name": "python",
   "nbconvert_exporter": "python",
   "pygments_lexer": "ipython3",
   "version": "3.10.4"
  }
 },
 "nbformat": 4,
 "nbformat_minor": 5
}
