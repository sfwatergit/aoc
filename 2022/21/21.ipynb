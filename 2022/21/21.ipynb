{
 "cells": [
  {
   "cell_type": "code",
   "execution_count": 35,
   "id": "15eb0da7",
   "metadata": {},
   "outputs": [
    {
     "data": {
      "text/plain": [
       "309248622142100.0"
      ]
     },
     "execution_count": 35,
     "metadata": {},
     "output_type": "execute_result"
    }
   ],
   "source": [
    "from dataclasses import dataclass\n",
    "from typing import Callable\n",
    "from math import prod\n",
    "from operator import truediv,sub,add,mul\n",
    "import re\n",
    "\n",
    "@dataclass\n",
    "class Monkey:\n",
    "    mid: str\n",
    "    ma: str = None\n",
    "    mb: str = None\n",
    "    _value: int = None\n",
    "    op: Callable = None\n",
    "    \n",
    "    @property\n",
    "    def value(self):\n",
    "        if self._value is None:\n",
    "            return self.op(G[self.ma].value, G[self.mb].value)\n",
    "        else:\n",
    "            return self._value\n",
    "\n",
    "pat = re.compile(\"(\\w+) (\\W) (\\w+)\")\n",
    "\n",
    "test_path = \"test.txt\"\n",
    "input_path = \"../input/21.txt\"\n",
    "\n",
    "curr_path = input_path\n",
    "\n",
    "with open(curr_path) as f:\n",
    "    data = f.read().splitlines()\n",
    "    \n",
    "G = {}\n",
    "command_str_to_op = {\"+\":add,\"/\":truediv,\"*\":mul,\"-\":sub}\n",
    "for line in data:\n",
    "    m_name, command = line.split(\": \")\n",
    "    try:\n",
    "        G[m_name] = Monkey(m_name, None, None, int(command),None)\n",
    "    except ValueError as e:\n",
    "        ma,command_str,mb = re.findall(pat,command)[0]        \n",
    "        op = command_str_to_op[command_str]\n",
    "        G[m_name] = Monkey(m_name, ma, mb, None,op)\n",
    "\n",
    "G['root'].value"
   ]
  },
  {
   "cell_type": "code",
   "execution_count": 16,
   "id": "6b660a67",
   "metadata": {},
   "outputs": [
    {
     "ename": "NameError",
     "evalue": "name '_value' is not defined",
     "output_type": "error",
     "traceback": [
      "\u001b[0;31m---------------------------------------------------------------------------\u001b[0m",
      "\u001b[0;31mNameError\u001b[0m                                 Traceback (most recent call last)",
      "Input \u001b[0;32mIn [16]\u001b[0m, in \u001b[0;36m<cell line: 1>\u001b[0;34m()\u001b[0m\n\u001b[0;32m----> 1\u001b[0m \u001b[43mG\u001b[49m\u001b[43m[\u001b[49m\u001b[38;5;124;43m'\u001b[39;49m\u001b[38;5;124;43mroot\u001b[39;49m\u001b[38;5;124;43m'\u001b[39;49m\u001b[43m]\u001b[49m\u001b[38;5;241;43m.\u001b[39;49m\u001b[43mvalue\u001b[49m\n",
      "Input \u001b[0;32mIn [15]\u001b[0m, in \u001b[0;36mMonkey.value\u001b[0;34m(self)\u001b[0m\n\u001b[1;32m     19\u001b[0m     \u001b[38;5;28;01mreturn\u001b[39;00m op(G[ma]\u001b[38;5;241m.\u001b[39mvalue, G[mb]\u001b[38;5;241m.\u001b[39mvalue)\n\u001b[1;32m     20\u001b[0m \u001b[38;5;28;01melse\u001b[39;00m:\n\u001b[0;32m---> 21\u001b[0m     \u001b[38;5;28;01mreturn\u001b[39;00m \u001b[43m_value\u001b[49m\n",
      "\u001b[0;31mNameError\u001b[0m: name '_value' is not defined"
     ]
    }
   ],
   "source": [
    "# Part 2\n",
    "\n",
    "@dataclass\n",
    "class Monkey:\n",
    "    mid: str\n",
    "    ma: str = None\n",
    "    mb: str = None\n",
    "    _value: int = None\n",
    "    op: Callable = None\n",
    "    \n",
    "    @property\n",
    "    def value(self):\n",
    "        if self._value is None:\n",
    "            return self.op(G[self.ma].value, G[self.mb].value)\n",
    "        else:\n",
    "            return self._value\n",
    "\n",
    "pat = re.compile(\"(\\w+) (\\W) (\\w+)\")\n",
    "\n",
    "test_path = \"test.txt\"\n",
    "input_path = \"../input/21.txt\"\n",
    "\n",
    "curr_path = input_path\n",
    "\n",
    "with open(curr_path) as f:\n",
    "    data = f.read().splitlines()\n",
    "    \n",
    "G = {}\n",
    "command_str_to_op = {\"+\":add,\"/\":truediv,\"*\":mul,\"-\":sub}\n",
    "for line in data:\n",
    "    m_name, command = line.split(\": \")\n",
    "    try:\n",
    "        G[m_name] = Monkey(m_name, None, None, int(command),None)\n",
    "    except ValueError as e:\n",
    "        ma,command_str,mb = re.findall(pat,command)[0]        \n",
    "        op = command_str_to_op[command_str]\n",
    "        G[m_name] = Monkey(m_name, ma, mb, None,op)\n",
    "\n",
    "G['root'].value"
   ]
  },
  {
   "cell_type": "code",
   "execution_count": null,
   "id": "7c636765",
   "metadata": {},
   "outputs": [],
   "source": [
    "n_heaters = 2\n",
    "energy_usage_per_heater_in_w = 2500\n",
    "\n"
   ]
  }
 ],
 "metadata": {
  "kernelspec": {
   "display_name": "Python 3 (ipykernel)",
   "language": "python",
   "name": "python3"
  },
  "language_info": {
   "codemirror_mode": {
    "name": "ipython",
    "version": 3
   },
   "file_extension": ".py",
   "mimetype": "text/x-python",
   "name": "python",
   "nbconvert_exporter": "python",
   "pygments_lexer": "ipython3",
   "version": "3.10.4"
  }
 },
 "nbformat": 4,
 "nbformat_minor": 5
}
