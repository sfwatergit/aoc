{
 "cells": [
  {
   "cell_type": "code",
   "execution_count": 55,
   "id": "73ad1098",
   "metadata": {},
   "outputs": [],
   "source": [
    "from collections import defaultdict\n",
    "import itertools\n",
    "\n",
    "dirs = ((0,1),(1,0),(0,-1),(-1,0))\n",
    "\n",
    "test_path = \"test.txt\"\n",
    "input_path = \"../input/22.txt\"\n",
    "\n",
    "with open(input_path) as f:\n",
    "    data = f.read().splitlines()\n",
    "\n",
    "mmap = data[:-1]\n",
    "path = data[-1]"
   ]
  },
  {
   "cell_type": "code",
   "execution_count": 56,
   "id": "32bfc5d9",
   "metadata": {},
   "outputs": [
    {
     "name": "stdout",
     "output_type": "stream",
     "text": [
      "11464\n"
     ]
    }
   ],
   "source": [
    "start = None\n",
    "\n",
    "g = defaultdict(lambda : \"\")\n",
    "for i,r in enumerate(mmap):\n",
    "    for j in range(len(r)):\n",
    "        if r[j]!=\" \":\n",
    "            g[i,j]=r[j]\n",
    "            \n",
    "path = [\"\".join(v) for k, v in itertools.groupby(path, str.isdigit)]\n",
    "\n",
    "initx,inity = 0,0\n",
    "while g[initx, inity] != \".\":\n",
    "    inity += 1\n",
    "\n",
    "cx,cy,mdir = initx,inity,0\n",
    "\n",
    "for z,p in enumerate(path):\n",
    "    #print(z)\n",
    "    if p == \"R\":\n",
    "        mdir = (mdir + 1) % 4\n",
    "    elif p == \"L\":\n",
    "        mdir = (mdir - 1) % 4\n",
    "    else:\n",
    "        steps = int(p)\n",
    "        dx,dy = dirs[mdir]\n",
    "        for _ in range(steps):\n",
    "            cx += dx\n",
    "            cy += dy\n",
    "            # check if off the board or blocked\n",
    "            if g[cx,cy] == \"#\":\n",
    "                cx -= dx\n",
    "                cy -= dy\n",
    "                break\n",
    "            if g[cx,cy] == \"\":\n",
    "                # SLOW!\n",
    "                nx,ny = cx - dx, cy - dy\n",
    "                while g[nx,ny] != \"\":\n",
    "                    nx -= dx\n",
    "                    ny -= dy\n",
    "                nx += dx\n",
    "                ny += dy\n",
    "                if g[nx,ny] == \"#\":\n",
    "                    cx -= dx\n",
    "                    cy -= dy\n",
    "                    break\n",
    "                cx = nx\n",
    "                cy = ny\n",
    "\n",
    "print(1000 * (cx + 1) + 4 * (cy + 1) + mdir)"
   ]
  },
  {
   "cell_type": "code",
   "execution_count": 50,
   "id": "04d0de5a",
   "metadata": {},
   "outputs": [
    {
     "data": {
      "text/plain": [
       "5"
      ]
     },
     "execution_count": 50,
     "metadata": {},
     "output_type": "execute_result"
    }
   ],
   "source": [
    "inity"
   ]
  },
  {
   "cell_type": "code",
   "execution_count": null,
   "id": "e1681db5",
   "metadata": {},
   "outputs": [],
   "source": []
  }
 ],
 "metadata": {
  "kernelspec": {
   "display_name": "Python 3 (ipykernel)",
   "language": "python",
   "name": "python3"
  },
  "language_info": {
   "codemirror_mode": {
    "name": "ipython",
    "version": 3
   },
   "file_extension": ".py",
   "mimetype": "text/x-python",
   "name": "python",
   "nbconvert_exporter": "python",
   "pygments_lexer": "ipython3",
   "version": "3.10.4"
  }
 },
 "nbformat": 4,
 "nbformat_minor": 5
}
