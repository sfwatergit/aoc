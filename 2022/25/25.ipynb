{
 "cells": [
  {
   "cell_type": "code",
   "execution_count": 3,
   "id": "1bdec152",
   "metadata": {},
   "outputs": [],
   "source": [
    "import sys"
   ]
  },
  {
   "cell_type": "code",
   "execution_count": 15,
   "id": "23e60afc",
   "metadata": {},
   "outputs": [],
   "source": [
    "from aocutils import *"
   ]
  },
  {
   "cell_type": "code",
   "execution_count": 25,
   "id": "94729bd0",
   "metadata": {},
   "outputs": [
    {
     "name": "stdout",
     "output_type": "stream",
     "text": [
      "6838335240970.0 1\n",
      "1367667048194.0 0.0\n",
      "273533409639.0 4.0\n",
      "54706681928.0 4.0\n",
      "10941336386.0 3.0\n",
      "2188267277.0 1.0\n",
      "437653455.0 2.0\n",
      "87530691.0 0.0\n",
      "17506138.0 1.0\n",
      "3501228.0 3.0\n",
      "700246.0 3.0\n",
      "140049.0 1.0\n",
      "28010.0 4.0\n",
      "5602.0 0.0\n",
      "1120.0 2.0\n",
      "224.0 0.0\n",
      "45.0 4.0\n",
      "9.0 0.0\n",
      "2.0 4.0\n",
      "0.0 2.0\n"
     ]
    },
    {
     "data": {
      "text/plain": [
       "'2-0-020-1==1021=--01'"
      ]
     },
     "execution_count": 25,
     "metadata": {},
     "output_type": "execute_result"
    }
   ],
   "source": [
    "\n",
    "\n",
    "test_path = \"test.txt\"\n",
    "input_path = \"../input/25.txt\"\n",
    "\n",
    "curr_path = input_path\n",
    "# curr_path = test_path\n",
    "\n",
    "with open(curr_path) as f:\n",
    "    data = f.read().splitlines()\n",
    "\n",
    "t_total=0\n",
    "for row in data:\n",
    "    r_total = 0\n",
    "    for place,numeral in enumerate(reversed(row)):\n",
    "        p_num = 5**place\n",
    "        if numeral.isnumeric():\n",
    "            r_total += int(numeral)*p_num\n",
    "        elif numeral == '-':\n",
    "            r_total -= p_num\n",
    "        elif numeral == '=':\n",
    "            r_total -= 2*p_num\n",
    "    t_total+=r_total\n",
    "\n",
    "sn = []\n",
    "acc = 0\n",
    "\n",
    "acc = t_total\n",
    "\n",
    "while acc!=0:\n",
    "    n = acc%5\n",
    "    if n == 4:\n",
    "        acc+=1\n",
    "        sn.append('-')\n",
    "    elif n == 3:\n",
    "        acc+=2\n",
    "        sn.append('=')\n",
    "    else:\n",
    "        acc-=n\n",
    "        sn.append(int(n))\n",
    "    acc = acc/5\n",
    "    print(acc,n)\n",
    "\"\".join(reversed(lmap(str,sn)))"
   ]
  },
  {
   "cell_type": "code",
   "execution_count": 21,
   "id": "d33f1468",
   "metadata": {},
   "outputs": [
    {
     "name": "stdout",
     "output_type": "stream",
     "text": [
      "978.0 0\n",
      "196.0 3.0\n",
      "39.0 1.0\n",
      "8.0 4.0\n",
      "2.0 3.0\n",
      "0.0 2.0\n"
     ]
    },
    {
     "data": {
      "text/plain": [
       "'2-=1-0'"
      ]
     },
     "execution_count": 21,
     "metadata": {},
     "output_type": "execute_result"
    }
   ],
   "source": []
  },
  {
   "cell_type": "code",
   "execution_count": 105,
   "id": "aa68599e",
   "metadata": {},
   "outputs": [
    {
     "data": {
      "text/plain": [
       "(195, 3)"
      ]
     },
     "execution_count": 105,
     "metadata": {},
     "output_type": "execute_result"
    }
   ],
   "source": [
    "divmod(978,5)"
   ]
  },
  {
   "cell_type": "code",
   "execution_count": 88,
   "id": "93826621",
   "metadata": {},
   "outputs": [
    {
     "data": {
      "text/plain": [
       "0"
      ]
     },
     "execution_count": 88,
     "metadata": {},
     "output_type": "execute_result"
    }
   ],
   "source": [
    "4890%5"
   ]
  },
  {
   "cell_type": "code",
   "execution_count": null,
   "id": "f3ef06da",
   "metadata": {},
   "outputs": [],
   "source": []
  },
  {
   "cell_type": "code",
   "execution_count": null,
   "id": "c16385c3",
   "metadata": {},
   "outputs": [],
   "source": []
  }
 ],
 "metadata": {
  "kernelspec": {
   "display_name": "Python 3 (ipykernel)",
   "language": "python",
   "name": "python3"
  },
  "language_info": {
   "codemirror_mode": {
    "name": "ipython",
    "version": 3
   },
   "file_extension": ".py",
   "mimetype": "text/x-python",
   "name": "python",
   "nbconvert_exporter": "python",
   "pygments_lexer": "ipython3",
   "version": "3.10.4"
  }
 },
 "nbformat": 4,
 "nbformat_minor": 5
}
