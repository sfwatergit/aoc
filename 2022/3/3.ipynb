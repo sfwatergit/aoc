{
 "cells": [
  {
   "cell_type": "code",
   "execution_count": 19,
   "id": "1eb8ae41",
   "metadata": {},
   "outputs": [
    {
     "data": {
      "text/plain": [
       "8123"
      ]
     },
     "execution_count": 19,
     "metadata": {},
     "output_type": "execute_result"
    }
   ],
   "source": [
    "# Part 1\n",
    "\n",
    "tot = 0\n",
    "with open(\"../input/3.txt\",'r') as f:\n",
    "    for item in f.readlines():\n",
    "        l = int(len(item)/2)\n",
    "        c1,c2 = item[:l], item[l:].strip('\\n')\n",
    "        for i in range(l):\n",
    "            a,b = c1[i],c2[i]\n",
    "            if a in c2:\n",
    "                in_both = a\n",
    "            elif b in c1:\n",
    "                in_both = b\n",
    "        if in_both.isupper():\n",
    "            tot+=ord(in_both) - 64+26\n",
    "        else:\n",
    "            tot+=ord(in_both) - 96\n",
    "tot"
   ]
  },
  {
   "cell_type": "code",
   "execution_count": 35,
   "id": "bd8c050a",
   "metadata": {},
   "outputs": [
    {
     "data": {
      "text/plain": [
       "2620"
      ]
     },
     "execution_count": 35,
     "metadata": {},
     "output_type": "execute_result"
    }
   ],
   "source": [
    "tot = 0\n",
    "with open(\"../input/3.txt\",'r') as f:\n",
    "    item_count = 0\n",
    "    commons = []\n",
    "    for item in f.readlines():\n",
    "        item_count += 1\n",
    "        commons.append(set(item.strip('\\n')))\n",
    "        if item_count == 3:\n",
    "            commons = commons[0]&commons[1]&commons[2]\n",
    "            common = list(commons)[0]\n",
    "            if common.isupper():\n",
    "                tot+=ord(common) - 64+26\n",
    "            else:\n",
    "                tot+=ord(common) - 96\n",
    "            commons = []\n",
    "            item_count = 0\n",
    "tot"
   ]
  },
  {
   "cell_type": "code",
   "execution_count": 28,
   "id": "5ea1d609",
   "metadata": {},
   "outputs": [
    {
     "data": {
      "text/plain": [
       "0"
      ]
     },
     "execution_count": 28,
     "metadata": {},
     "output_type": "execute_result"
    }
   ],
   "source": [
    "tot"
   ]
  },
  {
   "cell_type": "code",
   "execution_count": null,
   "id": "6e527452",
   "metadata": {},
   "outputs": [],
   "source": []
  }
 ],
 "metadata": {
  "kernelspec": {
   "display_name": "Python 3 (ipykernel)",
   "language": "python",
   "name": "python3"
  },
  "language_info": {
   "codemirror_mode": {
    "name": "ipython",
    "version": 3
   },
   "file_extension": ".py",
   "mimetype": "text/x-python",
   "name": "python",
   "nbconvert_exporter": "python",
   "pygments_lexer": "ipython3",
   "version": "3.10.4"
  }
 },
 "nbformat": 4,
 "nbformat_minor": 5
}
