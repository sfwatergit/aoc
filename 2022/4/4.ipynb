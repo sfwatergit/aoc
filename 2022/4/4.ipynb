{
 "cells": [
  {
   "cell_type": "code",
   "execution_count": 25,
   "id": "35a17b32",
   "metadata": {},
   "outputs": [
    {
     "data": {
      "text/plain": [
       "538"
      ]
     },
     "execution_count": 25,
     "metadata": {},
     "output_type": "execute_result"
    }
   ],
   "source": [
    "# part 1\n",
    "\n",
    "tot = 0\n",
    "with open('../input/4.txt', 'r') as f:\n",
    "    for line in f.readlines():\n",
    "        a,b = line.strip(\"\\n\").split(\",\")\n",
    "        al,ar = a.split('-')\n",
    "        bl,br = b.split('-')\n",
    "        r1,r2=set(list(range(int(al),int(ar)+1))), set(list(range(int(bl),int(br)+1)))\n",
    "        if (r1.issubset(r2) or r2.issubset(r1)):\n",
    "            tot+=1\n",
    "tot"
   ]
  },
  {
   "cell_type": "code",
   "execution_count": 36,
   "id": "3a1eaec9",
   "metadata": {},
   "outputs": [
    {
     "data": {
      "text/plain": [
       "792"
      ]
     },
     "execution_count": 36,
     "metadata": {},
     "output_type": "execute_result"
    }
   ],
   "source": [
    "# part 2\n",
    "\n",
    "tot = 0\n",
    "with open('../input/4.txt', 'r') as f:\n",
    "    for line in f.readlines():\n",
    "        a,b = line.strip(\"\\n\").split(\",\")\n",
    "        al,ar = a.split('-')\n",
    "        bl,br = b.split('-')\n",
    "        r1,r2=set(list(range(int(al),int(ar)+1))),set(list(range(int(bl),int(br)+1)))\n",
    "        if not r1.isdisjoint(r2):\n",
    "            tot+=1\n",
    "tot"
   ]
  }
 ],
 "metadata": {
  "kernelspec": {
   "display_name": "Python 3 (ipykernel)",
   "language": "python",
   "name": "python3"
  },
  "language_info": {
   "codemirror_mode": {
    "name": "ipython",
    "version": 3
   },
   "file_extension": ".py",
   "mimetype": "text/x-python",
   "name": "python",
   "nbconvert_exporter": "python",
   "pygments_lexer": "ipython3",
   "version": "3.10.4"
  }
 },
 "nbformat": 4,
 "nbformat_minor": 5
}
