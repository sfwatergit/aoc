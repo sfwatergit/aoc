{
 "cells": [
  {
   "cell_type": "code",
   "execution_count": 142,
   "id": "01ab74db",
   "metadata": {},
   "outputs": [
    {
     "name": "stdout",
     "output_type": "stream",
     "text": [
      "Part 1: SBPQRSCDF\n",
      "Part 2: RGLVRCQSB\n"
     ]
    }
   ],
   "source": [
    "import re\n",
    "from collections import deque\n",
    "\n",
    "stacks = []\n",
    "moves = []\n",
    "\n",
    "stack_regex = r\"[A-Z]\"\n",
    "move_regex = r\"(?P<n>\\d*) from (?P<from>\\d*) to (?P<to>\\d*).*\"\n",
    "\n",
    "# str_path = \"test.txt\"\n",
    "str_path = \"../input/5.txt\"\n",
    "with open(str_path,\"r\") as f:\n",
    "    for line in f.readlines():\n",
    "        if len(stacks) == 0:\n",
    "            stacks = [deque() for _ in range(int(len(line)/4))]\n",
    "        stack_matches = list(re.finditer(stack_regex, line))\n",
    "        move_matches = list(re.finditer(move_regex, line))\n",
    "        if len(stack_matches) != 0:\n",
    "            for matchNum, match in enumerate(stack_matches, start=0):\n",
    "                match_char = match.group()\n",
    "                stack_pos = match.start()//4\n",
    "                stacks[stack_pos].append(match_char)\n",
    "        if line.startswith(\" 1\"):\n",
    "            stacks2 = [s.copy() for s in stacks]\n",
    "        if len(move_matches) != 0:\n",
    "            groups = move_matches[0].groups()\n",
    "            n = int(groups[0])\n",
    "            f = int(groups[1])-1\n",
    "            t = int(groups[2])-1\n",
    "            c = []\n",
    "            for _ in range(n):\n",
    "                c.append(stacks2[f].popleft())\n",
    "            for _ in range(n):\n",
    "                stacks[t].extendleft(stacks[f].popleft())\n",
    "            stacks2[t].extendleft(reversed(c))\n",
    "            \n",
    "print(\"Part 1:\",\"\".join([s[0] for s in stacks]))\n",
    "print(\"Part 2:\",\"\".join([s[0] for s in stacks2]))"
   ]
  }
 ],
 "metadata": {
  "kernelspec": {
   "display_name": "Python 3 (ipykernel)",
   "language": "python",
   "name": "python3"
  },
  "language_info": {
   "codemirror_mode": {
    "name": "ipython",
    "version": 3
   },
   "file_extension": ".py",
   "mimetype": "text/x-python",
   "name": "python",
   "nbconvert_exporter": "python",
   "pygments_lexer": "ipython3",
   "version": "3.10.4"
  }
 },
 "nbformat": 4,
 "nbformat_minor": 5
}
