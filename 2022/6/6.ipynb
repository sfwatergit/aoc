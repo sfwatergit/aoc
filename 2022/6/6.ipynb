{
 "cells": [
  {
   "cell_type": "code",
   "execution_count": 20,
   "id": "98c719fd",
   "metadata": {},
   "outputs": [],
   "source": [
    "test_strings = [\n",
    "    \"mjqjpqmgbljsphdztnvjfqwrcgsmlb\",\n",
    "    \"bvwbjplbgvbhsrlpgdmjqwftvncz\",\n",
    "\"nppdvjthqldpwncqszvftbrmjlhg\",\n",
    "\"nznrnfrfntjfmvfwmzdfjlvtqnbhcprsg\",\n",
    "\"zcfzfwzzqfrljwzlrfnpqdbhtmscgvjw\"]"
   ]
  },
  {
   "cell_type": "code",
   "execution_count": 22,
   "id": "71684dfc",
   "metadata": {},
   "outputs": [
    {
     "name": "stdout",
     "output_type": "stream",
     "text": [
      "2122\n",
      "\n",
      "\n"
     ]
    }
   ],
   "source": [
    "with open(\"../input/6.txt\") as f:\n",
    "    test_strings = [f.read().strip(\"\\n\")]\n",
    "for inp in test_strings:\n",
    "    for i in range(len(inp)-14):\n",
    "        if len(set(inp[i:i+14])) == 14:\n",
    "            print(i+14)\n",
    "            break\n",
    "    print(\"\\n\")"
   ]
  },
  {
   "cell_type": "code",
   "execution_count": 18,
   "id": "f5a7c78c",
   "metadata": {},
   "outputs": [
    {
     "data": {
      "text/plain": [
       "4095"
      ]
     },
     "execution_count": 18,
     "metadata": {},
     "output_type": "execute_result"
    }
   ],
   "source": [
    "len(test_strings[0])"
   ]
  },
  {
   "cell_type": "code",
   "execution_count": null,
   "id": "cf7ddb5c",
   "metadata": {},
   "outputs": [],
   "source": []
  }
 ],
 "metadata": {
  "kernelspec": {
   "display_name": "Python 3 (ipykernel)",
   "language": "python",
   "name": "python3"
  },
  "language_info": {
   "codemirror_mode": {
    "name": "ipython",
    "version": 3
   },
   "file_extension": ".py",
   "mimetype": "text/x-python",
   "name": "python",
   "nbconvert_exporter": "python",
   "pygments_lexer": "ipython3",
   "version": "3.10.4"
  }
 },
 "nbformat": 4,
 "nbformat_minor": 5
}
