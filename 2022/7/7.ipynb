{
 "cells": [
  {
   "cell_type": "code",
   "execution_count": 289,
   "id": "459315a3",
   "metadata": {},
   "outputs": [
    {
     "name": "stdout",
     "output_type": "stream",
     "text": [
      "Part 1: 1490523\n",
      "Part 2 12390492\n"
     ]
    }
   ],
   "source": [
    "dirs_to_sum = []\n",
    "dirs_to_min = []\n",
    "total=0\n",
    "fs = {\"TOTAL\":0}\n",
    "# with open(\"test.txt\",'r') as f:\n",
    "with open(\"../input/7.txt\",'r') as f:\n",
    "    f.readline()\n",
    "    line = f.readline().strip(\"\\n\")\n",
    "    cur_dir = fs\n",
    "    dirs = []\n",
    "    while line != \"\":\n",
    "        if line.startswith(\"$\"):\n",
    "            _, command = line.strip(\"\\n\").split(\" \",1)\n",
    "            if command.startswith(\"cd\"):\n",
    "                _ , target = command.strip(\"\\n\").split(\" \")\n",
    "                if target == \"..\":\n",
    "                    cur_total = cur_dir[\"TOTAL\"]\n",
    "                    if cur_total<100000:\n",
    "                        dirs_to_sum.append(cur_dir[\"TOTAL\"])\n",
    "                    cur_dir = dirs.pop()\n",
    "                    cur_dir[\"TOTAL\"]+=cur_total\n",
    "                else:\n",
    "                    dirs.append(cur_dir)\n",
    "                    cur_dir = cur_dir[target]\n",
    "            elif command.startswith(\"ls\"):\n",
    "                pass\n",
    "        elif line.startswith(\"dir\"):\n",
    "            _, dn = line.strip(\"\\n\").split(\" \")\n",
    "            cur_dir[dn] = {\"TOTAL\": 0}\n",
    "        else: # line starts with number, so file\n",
    "            size, _ = line.strip(\"\\n\").split(\" \")\n",
    "            cur_dir[\"TOTAL\"] += int(size)\n",
    "        line = f.readline()\n",
    "print(\"Part 1:\", sum(dirs_to_sum))\n",
    "\n",
    "size_used = 49192532\n",
    "size_free=70000000-size_used\n",
    "size_needed = 30000000 - size_free\n",
    "\n",
    "def list_sizes(fs,sizes):\n",
    "    for k,v in fs.items():        \n",
    "        if isinstance(v,int):\n",
    "            sizes.append(v)\n",
    "        elif isinstance(v,dict):\n",
    "            list_sizes(v,sizes)\n",
    "    return sizes\n",
    "sizes = list_sizes(fs,[])\n",
    "print(\"Part 2\", min([s for s in sizes if s>size_needed]))"
   ]
  }
 ],
 "metadata": {
  "kernelspec": {
   "display_name": "Python 3 (ipykernel)",
   "language": "python",
   "name": "python3"
  },
  "language_info": {
   "codemirror_mode": {
    "name": "ipython",
    "version": 3
   },
   "file_extension": ".py",
   "mimetype": "text/x-python",
   "name": "python",
   "nbconvert_exporter": "python",
   "pygments_lexer": "ipython3",
   "version": "3.10.4"
  }
 },
 "nbformat": 4,
 "nbformat_minor": 5
}
