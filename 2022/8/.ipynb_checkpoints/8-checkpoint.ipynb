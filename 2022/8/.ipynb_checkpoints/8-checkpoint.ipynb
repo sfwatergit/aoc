{
 "cells": [
  {
   "cell_type": "code",
   "execution_count": 50,
   "id": "7ae478ec",
   "metadata": {},
   "outputs": [],
   "source": [
    "import numpy as np"
   ]
  },
  {
   "cell_type": "code",
   "execution_count": 175,
   "id": "a65b2573",
   "metadata": {},
   "outputs": [
    {
     "name": "stdout",
     "output_type": "stream",
     "text": [
      "Part 1: 1796\n",
      "Part 2: 288120\n"
     ]
    }
   ],
   "source": [
    "# path = \"test.txt\"\n",
    "path = \"../input/8.txt\"\n",
    "with open(path,\"r\") as f:\n",
    "    lines = list(map(\n",
    "                        list, map(\n",
    "                                str.strip,\n",
    "                                    f.readlines())))\n",
    "    \n",
    "grid = np.array([[int(i) for i in row] for row in lines])\n",
    "\n",
    "nr = len(grid)\n",
    "nc = len(grid[0])\n",
    "\n",
    "count = 0\n",
    "max_score=0\n",
    "\n",
    "def vis_count(val, row):\n",
    "    k = 0\n",
    "    for i in row:\n",
    "        k+=1\n",
    "        if i >= val:\n",
    "            return k\n",
    "    return len(row)\n",
    "\n",
    "for i in range(nr):\n",
    "    for j in range(nc):\n",
    "        cur = grid[i,j]\n",
    "        dirs = [\n",
    "                grid[:,j][i+1:], # Down\n",
    "                grid[i,j+1:],  # Right\n",
    "                grid[i,:j][::-1],  # Left\n",
    "                grid[:,j][:i][::-1] # Up\n",
    "               ]  \n",
    "        \n",
    "        if any([(d<cur).all() for d in dirs]):\n",
    "            count+=1\n",
    "        score = prod([vis_count(grid[i,j], d) for d in dirs])\n",
    "        \n",
    "        if score>max_score:\n",
    "            max_score = score\n",
    "\n",
    "print(\"Part 1:\", count)\n",
    "print(\"Part 2:\", max_score)"
   ]
  }
 ],
 "metadata": {
  "kernelspec": {
   "display_name": "Python 3 (ipykernel)",
   "language": "python",
   "name": "python3"
  },
  "language_info": {
   "codemirror_mode": {
    "name": "ipython",
    "version": 3
   },
   "file_extension": ".py",
   "mimetype": "text/x-python",
   "name": "python",
   "nbconvert_exporter": "python",
   "pygments_lexer": "ipython3",
   "version": "3.10.4"
  }
 },
 "nbformat": 4,
 "nbformat_minor": 5
}
