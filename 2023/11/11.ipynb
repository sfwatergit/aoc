{
 "cells": [
  {
   "cell_type": "code",
   "execution_count": null,
   "id": "c43f31d1",
   "metadata": {
    "scrolled": false
   },
   "outputs": [],
   "source": [
    "# Parts 1 and 2\n",
    "\n",
    "# inp = \"test.txt\"\n",
    "inp = \"../input/11.txt\"\n",
    "\n",
    "with open(inp) as f:\n",
    "    grid = [l.strip(\"\\n\") for l in f.readlines()]\n",
    "\n",
    "n_rows = len(grid)\n",
    "n_cols = len(grid[0])\n",
    "\n",
    "galaxy_coords = []\n",
    "empty_rows = []\n",
    "empty_cols = []\n",
    "\n",
    "\n",
    "for r in range(n_rows):\n",
    "    if all([el==SPACE for el in grid[r]]):\n",
    "        empty_rows.append(r)\n",
    "\n",
    "for c in range(n_cols):\n",
    "    cs = []\n",
    "    for r in range(n_rows):\n",
    "        cs.append(grid[r][c])\n",
    "        if grid[c][r]==GALAXY:\n",
    "            galaxy_coords.append((c,r))\n",
    "\n",
    "    if all([el==SPACE for el in cs]):\n",
    "        empty_cols.append(c)\n",
    "\n",
    "\n",
    "def n_empty(fro,to,empties):\n",
    "    cnt = 0\n",
    "    for e in empties:\n",
    "        if fro<e<to:\n",
    "            cnt+=1\n",
    "        elif to<e<fro:\n",
    "            cnt+=1\n",
    "    return cnt\n",
    "\n",
    "\n",
    "def pdist1(x1, x2, e_fac):\n",
    "    dy = abs(x1[0]-x2[0])+e_fac*n_empty(x1[0],x2[0],empty_rows)\n",
    "    dx = abs(x1[1]-x2[1])+e_fac*n_empty(x1[1],x2[1],empty_cols)\n",
    "    \n",
    "    return dy+dx\n",
    "    \n",
    "\n",
    "def solve(e_fac):\n",
    "    return sum([pdist1(fro,to,e_fac) for fro,to in itertools.combinations(galaxy_coords,2)])\n",
    "\n",
    "\n",
    "print(f\"Part 1: {solve(1)}\")\n",
    "print(f\"Part 2: {solve(999_999)}\")"
   ]
  }
 ],
 "metadata": {
  "kernelspec": {
   "display_name": "Python 3 (ipykernel)",
   "language": "python",
   "name": "python3"
  },
  "language_info": {
   "codemirror_mode": {
    "name": "ipython",
    "version": 3
   },
   "file_extension": ".py",
   "mimetype": "text/x-python",
   "name": "python",
   "nbconvert_exporter": "python",
   "pygments_lexer": "ipython3",
   "version": "3.10.4"
  }
 },
 "nbformat": 4,
 "nbformat_minor": 5
}
