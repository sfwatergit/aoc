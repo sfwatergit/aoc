{
 "cells": [
  {
   "cell_type": "code",
   "execution_count": 20,
   "id": "2726496b",
   "metadata": {},
   "outputs": [
    {
     "name": "stdout",
     "output_type": "stream",
     "text": [
      "34100\n"
     ]
    }
   ],
   "source": [
    "# Part 1:\n",
    "\n",
    "inp = \"../input/13.txt\"\n",
    "# inp = \"test.txt\"\n",
    "\n",
    "\n",
    "\n",
    "notes = open(inp).read().split(\"\\n\\n\")\n",
    "notes = [note.splitlines() for note in notes] \n",
    "\n",
    "\n",
    "def find_mirror(note):\n",
    "    for i in range(1,len(note)):\n",
    "        left = note[:i]\n",
    "        right = note[i:]\n",
    "        if len(left) < len(right):\n",
    "            right = right[:len(left)]\n",
    "        elif len(left) > len(right):\n",
    "            left = left[len(left)-len(right):]\n",
    "        right = right[::-1]\n",
    "\n",
    "        if left == right:\n",
    "            return i\n",
    "    return 0\n",
    "\n",
    "total = 0\n",
    "for note in notes:\n",
    "    m = find_mirror(note) * 100\n",
    "    if not m:\n",
    "        m = find_mirror([\"\".join([row[i] for row in note]) for i in range(len(note[0]))])\n",
    "    total+=m\n",
    "print(total)"
   ]
  },
  {
   "cell_type": "code",
   "execution_count": 22,
   "id": "7f1a0786",
   "metadata": {},
   "outputs": [
    {
     "name": "stdout",
     "output_type": "stream",
     "text": [
      "33106\n"
     ]
    }
   ],
   "source": [
    "def find_mirror(note):\n",
    "    for i in range(1,len(note)):\n",
    "        left = note[:i]\n",
    "        right = note[i:]\n",
    "\n",
    "        if len(left) < len(right):\n",
    "            right = right[:len(left)]\n",
    "        elif len(left) > len(right):\n",
    "            left = left[len(left) - len(right):]\n",
    "        right = right[::-1]\n",
    "        \n",
    "        if left != right:\n",
    "            left = \"\".join(left)\n",
    "            right = \"\".join(right)\n",
    "\n",
    "            if len(left) == len(right) and sum(left[i] != right[i] for i in range(len(left))) == 1:\n",
    "                return i\n",
    "    return 0\n",
    "    \n",
    "total = 0\n",
    "for note in notes:\n",
    "    m = find_mirror(note) * 100\n",
    "    if not m:\n",
    "        m = find_mirror([\"\".join([row[i] for row in note]) for i in range(len(note[0]))])\n",
    "    total+=m\n",
    "print(total)"
   ]
  },
  {
   "cell_type": "code",
   "execution_count": null,
   "id": "a3de5b47",
   "metadata": {},
   "outputs": [],
   "source": []
  }
 ],
 "metadata": {
  "kernelspec": {
   "display_name": "Python 3 (ipykernel)",
   "language": "python",
   "name": "python3"
  },
  "language_info": {
   "codemirror_mode": {
    "name": "ipython",
    "version": 3
   },
   "file_extension": ".py",
   "mimetype": "text/x-python",
   "name": "python",
   "nbconvert_exporter": "python",
   "pygments_lexer": "ipython3",
   "version": "3.10.4"
  }
 },
 "nbformat": 4,
 "nbformat_minor": 5
}
