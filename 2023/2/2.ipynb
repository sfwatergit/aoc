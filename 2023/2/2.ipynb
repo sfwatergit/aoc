{
 "cells": [
  {
   "cell_type": "code",
   "execution_count": null,
   "id": "7520783a",
   "metadata": {},
   "outputs": [],
   "source": [
    "# Part 1:\n",
    "\n",
    "inp = \"../input/2.txt\"\n",
    "# inp = \"test.txt\"\n",
    "cum_sum = 0\n",
    "with open(inp, \"r\") as f:\n",
    "    for line in f.readlines():\n",
    "        game_num,game = line.strip(\"\\n\").strip(\"Game \").split(\": \")\n",
    "        subgames = game.split(\";\")\n",
    "        \n",
    "        possible = True\n",
    "        for sg in subgames:\n",
    "            cubes = sg.split(\",\")\n",
    "            cubes = [c.strip(\" \") for c in cubes]\n",
    "            for s,cube in enumerate(cubes):\n",
    "                num, color = cube.split(\" \")\n",
    "                num=int(num.strip(\" \"))\n",
    "                if (\"blu\" in color and num > 14) or  (\"red\" == color and num > 12) or (\"green\" == color and num >13):\n",
    "                    possible = False\n",
    "                    break\n",
    "                   \n",
    "            if not possible:\n",
    "                break\n",
    "                \n",
    "        \n",
    "        if possible:\n",
    "            cum_sum += int(game_num)\n",
    "\n",
    "cum_sum            "
   ]
  },
  {
   "cell_type": "code",
   "execution_count": null,
   "id": "052fe141",
   "metadata": {},
   "outputs": [],
   "source": [
    "# Part 2:\n",
    "\n",
    "inp = \"../input/2.txt\"\n",
    "# inp = \"test.txt\"\n",
    "cum_sum = 0\n",
    "with open(inp, \"r\") as f:\n",
    "    for line in f.readlines():\n",
    "        game_num,game = line.strip(\"\\n\").strip(\"Game \").split(\": \")\n",
    "        subgames = game.split(\";\")\n",
    "        mg = 0\n",
    "        mr = 0\n",
    "        mb = 0\n",
    "        for sg in subgames:\n",
    "            cubes = sg.split(\",\")\n",
    "            cubes = [c.strip(\" \") for c in cubes]\n",
    "            for s,cube in enumerate(cubes):\n",
    "                num, color = cube.split(\" \")\n",
    "                num = int(num.strip(\" \"))\n",
    "                if color == \"green\":\n",
    "                    if num>mg:\n",
    "                        mg=num\n",
    "                elif color == \"blue\" or color == \"blu\":\n",
    "                    if num>mb:\n",
    "                        mb=num\n",
    "                elif color == \"red\":\n",
    "                    if num>mr:\n",
    "                        mr=num\n",
    "        mins = mg*mr*mb\n",
    "\n",
    "        cum_sum+=mins\n",
    "cum_sum"
   ]
  }
 ],
 "metadata": {
  "kernelspec": {
   "display_name": "Python 3 (ipykernel)",
   "language": "python",
   "name": "python3"
  },
  "language_info": {
   "codemirror_mode": {
    "name": "ipython",
    "version": 3
   },
   "file_extension": ".py",
   "mimetype": "text/x-python",
   "name": "python",
   "nbconvert_exporter": "python",
   "pygments_lexer": "ipython3",
   "version": "3.10.4"
  }
 },
 "nbformat": 4,
 "nbformat_minor": 5
}
