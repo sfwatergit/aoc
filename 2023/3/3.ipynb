{
 "cells": [
  {
   "cell_type": "code",
   "execution_count": 90,
   "id": "adbe7783",
   "metadata": {},
   "outputs": [],
   "source": [
    "GRID_DELTA = [[-1, 0], [1, 0], [0, -1], [0, 1]]\n",
    "OCT_DELTA = [[1, 1], [-1, -1], [1, -1], [-1, 1]] + GRID_DELTA\n",
    "\n",
    "def in_bounds(x, y, x_max, y_max):\n",
    "    return 0 <= x < x_max and 0 <= y < y_max \n",
    "\n",
    "def has_special_characters(s):\n",
    "    return not s.isnumeric() and s != \".\""
   ]
  },
  {
   "cell_type": "code",
   "execution_count": 88,
   "id": "dcb738c6",
   "metadata": {},
   "outputs": [
    {
     "name": "stdout",
     "output_type": "stream",
     "text": [
      "521601\n"
     ]
    }
   ],
   "source": [
    "# Part 1\n",
    "\n",
    "\n",
    "\n",
    "\n",
    "def check_sym(to_check, lines):\n",
    "    y_max,x_max = len(lines),len(lines[0])\n",
    "    for y, x in to_check:\n",
    "        # check around all 8 directions; careful about dimensions \n",
    "        for dy, dx in OCT_DELTA:\n",
    "            nx = x + dx\n",
    "            ny = y + dy\n",
    "            if in_bounds(nx, ny, x_max, y_max) and has_special_characters(lines[ny][nx]):\n",
    "                return True\n",
    "            # keep looking otherwise\n",
    "    return False\n",
    "\n",
    "def convert_to_int(to_check, lines):\n",
    "    num = []\n",
    "    for y,x in to_check:\n",
    "        num.append(lines[y][x])\n",
    "    return int(\"\".join(num))\n",
    "\n",
    "inp = \"../input/3.txt\"\n",
    "# inp = \"test.txt\"\n",
    "total = 0\n",
    "\n",
    "with open(inp, \"r\") as f:\n",
    "\n",
    "    # Add buffer of \".s\" to avoid off by 1 error\n",
    "    lines = [\".\"+l.strip(\"\\n\")+\".\" for l in f.readlines()]\n",
    "    \n",
    "    for r_idx, row in enumerate(lines):\n",
    "        found_num = False\n",
    "        idx = 0\n",
    "        row_len = len(row)\n",
    "        while idx < row_len:\n",
    "            el = row[idx]\n",
    "            if el.isdigit():\n",
    "                # create list of numbers in this row to check if next to symbol \n",
    "                to_check = [[r_idx, idx]]\n",
    "                next_idx = idx + 1\n",
    "                while True:\n",
    "                    # check if out of bounds\n",
    "                    if next_idx >= row_len:\n",
    "                        break\n",
    "                    if row[next_idx].isdigit():\n",
    "                        to_check.append([r_idx, next_idx])\n",
    "                        next_idx += 1\n",
    "                    else: # we reached the end of the number                         \n",
    "                        # check places around number\n",
    "                        if check_sym(to_check, lines):\n",
    "                            to_add = convert_to_int(to_check,lines)\n",
    "                            total += to_add\n",
    "                        # start idx at next_idx\n",
    "                        idx = next_idx\n",
    "                        break\n",
    "            idx+=1\n",
    "                        \n",
    "            \n",
    "    print(total)"
   ]
  },
  {
   "cell_type": "code",
   "execution_count": 130,
   "id": "76aeae11",
   "metadata": {},
   "outputs": [
    {
     "data": {
      "text/plain": [
       "467835"
      ]
     },
     "execution_count": 130,
     "metadata": {},
     "output_type": "execute_result"
    }
   ],
   "source": [
    "# Part 2\n",
    "\n",
    "import re\n",
    "\n",
    "inp = \"../input/3.txt\"\n",
    "# inp = \"test.txt\"\n",
    "\n",
    "with open(inp, \"r\") as f:    \n",
    "    lines = f.read().split(\"\\n\")\n",
    "\n",
    "# Collect all gear symbols in first pass and create map of arrays\n",
    "gears = dict()\n",
    "for row, line in enumerate(lines):\n",
    "    for col, letter in enumerate(line):\n",
    "        if letter == \"*\":\n",
    "            gears[(col, row)]=[]\n",
    "                    \n",
    "\n",
    "# Check numbers in each line and map to a gear in the gear mapping\n",
    "for row, line in enumerate(lines):\n",
    "    for part_num in re.finditer(r\"\\d+\", line):\n",
    "        # go over each possible gear and check if it is adjacent to this part_num candidate\n",
    "        for (g_x, g_y) in gears.keys():\n",
    "            if (part_num.start() -1 <= g_x <= part_num.end()) and (row-1 <= g_y <= row+1):\n",
    "                num = int(part_num.group())\n",
    "                gears[(g_x, g_y)].append(num)\n",
    "\n",
    "sum([part_nums[0]*part_nums[1] for part_nums in gears.values() if len(part_nums) == 2])"
   ]
  }
 ],
 "metadata": {
  "kernelspec": {
   "display_name": "Python 3 (ipykernel)",
   "language": "python",
   "name": "python3"
  },
  "language_info": {
   "codemirror_mode": {
    "name": "ipython",
    "version": 3
   },
   "file_extension": ".py",
   "mimetype": "text/x-python",
   "name": "python",
   "nbconvert_exporter": "python",
   "pygments_lexer": "ipython3",
   "version": "3.10.4"
  }
 },
 "nbformat": 4,
 "nbformat_minor": 5
}
