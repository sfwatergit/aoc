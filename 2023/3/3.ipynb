{
 "cells": [
  {
   "cell_type": "code",
   "execution_count": 88,
   "id": "330ea2f3",
   "metadata": {},
   "outputs": [
    {
     "name": "stdout",
     "output_type": "stream",
     "text": [
      "521601\n"
     ]
    }
   ],
   "source": [
    "# Part 1\n",
    "\n",
    "\n",
    "GRID_DELTA = [[-1, 0], [1, 0], [0, -1], [0, 1]]\n",
    "OCT_DELTA = [[1, 1], [-1, -1], [1, -1], [-1, 1]] + GRID_DELTA\n",
    "\n",
    "def in_bounds(x, y, x_max, y_max):\n",
    "    return 0 <= x < x_max and 0 <= y < y_max \n",
    "\n",
    "def has_special_characters(s):\n",
    "    return not s.isnumeric() and s != \".\"\n",
    "\n",
    "def check_sym(to_check, lines):\n",
    "    y_max,x_max = len(lines),len(lines[0])\n",
    "    for y, x in to_check:\n",
    "        # check around all 8 directions; careful about dimensions \n",
    "        for dy, dx in OCT_DELTA:\n",
    "            nx = x + dx\n",
    "            ny = y + dy\n",
    "            if in_bounds(nx, ny, x_max, y_max) and has_special_characters(lines[ny][nx]):\n",
    "                return True\n",
    "            # keep looking otherwise\n",
    "    return False\n",
    "\n",
    "def convert_to_int(to_check, lines):\n",
    "    num = []\n",
    "    for y,x in to_check:\n",
    "        num.append(lines[y][x])\n",
    "    return int(\"\".join(num))\n",
    "\n",
    "inp = \"../input/3.txt\"\n",
    "# inp = \"test.txt\"\n",
    "total = 0\n",
    "\n",
    "with open(inp, \"r\") as f:\n",
    "\n",
    "    # Add buffer of \".s\" to avoid off by 1 error\n",
    "    lines = [\".\"+l.strip(\"\\n\")+\".\" for l in f.readlines()]\n",
    "    \n",
    "    for r_idx, row in enumerate(lines):\n",
    "        found_num = False\n",
    "        idx = 0\n",
    "        row_len = len(row)\n",
    "        while idx < row_len:\n",
    "            el = row[idx]\n",
    "            if el.isdigit():\n",
    "                # create list of numbers in this row to check if next to symbol \n",
    "                to_check = [[r_idx, idx]]\n",
    "                next_idx = idx + 1\n",
    "                while True:\n",
    "                    # check if out of bounds\n",
    "                    if next_idx >= row_len:\n",
    "                        break\n",
    "                    if row[next_idx].isdigit():\n",
    "                        to_check.append([r_idx, next_idx])\n",
    "                        next_idx += 1\n",
    "                    else: # we reached the end of the number                         \n",
    "                        # check places around number\n",
    "                        if check_sym(to_check, lines):\n",
    "                            to_add = convert_to_int(to_check,lines)\n",
    "                            total += to_add\n",
    "                        # start idx at next_idx\n",
    "                        idx = next_idx\n",
    "                        break\n",
    "            idx+=1\n",
    "                        \n",
    "            \n",
    "    print(total)"
   ]
  },
  {
   "cell_type": "code",
   "execution_count": null,
   "id": "be9df316",
   "metadata": {},
   "outputs": [],
   "source": [
    "# Part 2\n",
    "\n",
    "\n",
    "inp = \"../input/3.txt\"\n",
    "# inp = \"test.txt\"\n",
    "total = 0\n",
    "\n",
    "with open(inp, \"r\") as f:\n",
    "\n",
    "    # Add buffer of \".s\" to avoid off by 1 error\n",
    "    lines = [\".\"+l.strip(\"\\n\")+\".\" for l in f.readlines()]\n",
    "    for line in lines:\n",
    "        \n",
    "            "
   ]
  }
 ],
 "metadata": {
  "kernelspec": {
   "display_name": "Python 3 (ipykernel)",
   "language": "python",
   "name": "python3"
  },
  "language_info": {
   "codemirror_mode": {
    "name": "ipython",
    "version": 3
   },
   "file_extension": ".py",
   "mimetype": "text/x-python",
   "name": "python",
   "nbconvert_exporter": "python",
   "pygments_lexer": "ipython3",
   "version": "3.10.4"
  }
 },
 "nbformat": 4,
 "nbformat_minor": 5
}
