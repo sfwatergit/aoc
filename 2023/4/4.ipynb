{
 "cells": [
  {
   "cell_type": "code",
   "execution_count": null,
   "id": "10f30b40",
   "metadata": {},
   "outputs": [],
   "source": [
    "# Part 1\n",
    "\n",
    "import re\n",
    "\n",
    "def convert_to_ints(num_str):\n",
    "    return [int(d.group()) for d in re.finditer(\"\\d+\",num_str)]\n",
    "\n",
    "# inp = \"test.txt\"\n",
    "inp = \"../input/4.txt\"\n",
    "cum_tot = 0\n",
    "with open(inp) as f:\n",
    "    for line in f.readlines():\n",
    "        matches = -1\n",
    "        line = line.strip(\"\\n\")\n",
    "        nums, to_match = line.split(\" | \")\n",
    "        nums, to_match = sorted(convert_to_ints(nums)[1:]),sorted(convert_to_ints(to_match))\n",
    "        \n",
    "        for num in nums:\n",
    "            for m in to_match:\n",
    "                if num == m:\n",
    "                    matches += 1\n",
    "        tot = 2**matches if matches != -1 else 0\n",
    "        cum_tot+=tot\n",
    "    \n",
    "cum_tot"
   ]
  },
  {
   "cell_type": "code",
   "execution_count": null,
   "id": "90319eeb",
   "metadata": {
    "scrolled": false
   },
   "outputs": [],
   "source": [
    "# Part 2\n",
    "\n",
    "import re\n",
    "from collections import defaultdict\n",
    "\n",
    "def convert_to_ints(num_str):\n",
    "    return [int(d.group()) for d in re.finditer(\"\\d+\",num_str)]\n",
    "\n",
    "# inp = \"test.txt\"\n",
    "inp = \"../input/4.txt\"\n",
    "\n",
    "\n",
    "ct = defaultdict(int)\n",
    "tot = 0\n",
    "\n",
    "lines = []\n",
    "with open(inp) as f:\n",
    "    for line in f.readlines():\n",
    "        line = line.strip(\"\\n\")\n",
    "        nums, to_match = line.split(\" | \")\n",
    "        nums, to_match = sorted(convert_to_ints(nums)[1:]),sorted(convert_to_ints(to_match))\n",
    "        lines.append([nums, to_match])\n",
    "\n",
    "cur_line = 0\n",
    "\n",
    "while cur_line<len(lines):\n",
    "    matches = 0\n",
    "    \n",
    "    nums, to_match = lines[cur_line]\n",
    "    tot += 1\n",
    "    for num in nums:\n",
    "        for m in to_match:\n",
    "            if num == m:\n",
    "                matches += 1\n",
    "                ct[str(cur_line+matches)]+=1\n",
    "    ct[str(cur_line)] -= 1\n",
    "    if ct[str(cur_line)] == -1:\n",
    "        cur_line += 1\n",
    "\n",
    "tot"
   ]
  },
  {
   "cell_type": "code",
   "execution_count": null,
   "id": "2b0c9bd7",
   "metadata": {},
   "outputs": [],
   "source": [
    "ct"
   ]
  },
  {
   "cell_type": "code",
   "execution_count": null,
   "id": "b3d97c8b",
   "metadata": {},
   "outputs": [],
   "source": []
  }
 ],
 "metadata": {
  "kernelspec": {
   "display_name": "Python 3 (ipykernel)",
   "language": "python",
   "name": "python3"
  },
  "language_info": {
   "codemirror_mode": {
    "name": "ipython",
    "version": 3
   },
   "file_extension": ".py",
   "mimetype": "text/x-python",
   "name": "python",
   "nbconvert_exporter": "python",
   "pygments_lexer": "ipython3",
   "version": "3.10.4"
  }
 },
 "nbformat": 4,
 "nbformat_minor": 5
}
