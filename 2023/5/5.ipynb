{
 "cells": [
  {
   "cell_type": "code",
   "execution_count": 14,
   "id": "d54dff9c",
   "metadata": {},
   "outputs": [
    {
     "data": {
      "text/plain": [
       "910845529"
      ]
     },
     "execution_count": 14,
     "metadata": {},
     "output_type": "execute_result"
    }
   ],
   "source": [
    "\n",
    "## Part 1\n",
    "\n",
    "import re\n",
    "\n",
    "def convert_to_ints(num_str):\n",
    "    return [int(d.group()) for d in re.finditer(\"\\d+\",num_str)]\n",
    "\n",
    "# inp = \"test.txt\"\n",
    "inp = \"../input/5.txt\"\n",
    "\n",
    "class Mapper:\n",
    "    def __init__(self, mappings):\n",
    "        self.mappings = mappings\n",
    "    \n",
    "    def __call__(self, inp):\n",
    "        dest = None\n",
    "        for dest_start,source_start,range_len in sorted(self.mappings, key = lambda x: x[1]):\n",
    "            if source_start <= inp <= source_start + range_len:\n",
    "                dest = dest_start+(inp-source_start)\n",
    "        if not dest:\n",
    "            return inp\n",
    "        else:\n",
    "            return dest\n",
    "                \n",
    "                \n",
    "        \n",
    "\n",
    "def parse_nums(line_idx, lines):\n",
    "    nums = []\n",
    "    line = None\n",
    "    while True:\n",
    "        line = lines[line_idx]\n",
    "        if line == \"\":\n",
    "            break\n",
    "        nums.append(convert_to_ints(line))\n",
    "        line_idx+=1\n",
    "        if line_idx>=len(lines):\n",
    "            break\n",
    "    return line_idx+2, Mapper(nums)\n",
    "    \n",
    "\n",
    "\n",
    "with open(inp) as f:\n",
    "    # parse seeds:\n",
    "    lines = [line.strip(\"\\n\") for line in f.readlines()]\n",
    "    \n",
    "\n",
    "seeds = convert_to_ints(lines[0])\n",
    "\n",
    "line_idx = 3\n",
    "line_idx, seed_to_soil_map = parse_nums(line_idx, lines)\n",
    "line_idx, soil_to_fert_map = parse_nums(line_idx, lines)\n",
    "line_idx, fert_to_wat_map = parse_nums(line_idx, lines)\n",
    "line_idx, wat_to_light_map = parse_nums(line_idx, lines)\n",
    "line_idx, light_to_temp_map = parse_nums(line_idx, lines)\n",
    "line_idx, temp_to_hum_map = parse_nums(line_idx, lines)\n",
    "line_idx, hum_to_loc_map = parse_nums(line_idx, lines)\n",
    "\n",
    "min_loc = min([hum_to_loc_map(temp_to_hum_map(light_to_temp_map(wat_to_light_map(fert_to_wat_map(soil_to_fert_map(seed_to_soil_map(seed))))))) for seed in seeds])\n",
    "min_loc"
   ]
  },
  {
   "cell_type": "code",
   "execution_count": 15,
   "id": "1ef17c83",
   "metadata": {},
   "outputs": [
    {
     "name": "stdout",
     "output_type": "stream",
     "text": [
      "3421539474\n",
      "3119409201\n",
      "50985980\n"
     ]
    },
    {
     "data": {
      "text/plain": [
       "77435348"
      ]
     },
     "execution_count": 15,
     "metadata": {},
     "output_type": "execute_result"
    }
   ],
   "source": [
    "## Part 2\n",
    "\n",
    "\n",
    "locs = []\n",
    "seeds = seeds[14:]\n",
    "for seed_start, seed_range in zip(seeds[0::2], seeds[1::2]):\n",
    "    print(seed_start)\n",
    "    for seed in range(seed_start,seed_start+seed_range):\n",
    "        locs.append(hum_to_loc_map(temp_to_hum_map(light_to_temp_map(wat_to_light_map(fert_to_wat_map(soil_to_fert_map(seed_to_soil_map(seed))))))))\n",
    "\n",
    "min(locs)"
   ]
  },
  {
   "cell_type": "code",
   "execution_count": 7,
   "id": "b54120b6",
   "metadata": {},
   "outputs": [
    {
     "ename": "ImportError",
     "evalue": "attempted relative import with no known parent package",
     "output_type": "error",
     "traceback": [
      "\u001b[0;31m---------------------------------------------------------------------------\u001b[0m",
      "\u001b[0;31mImportError\u001b[0m                               Traceback (most recent call last)",
      "Input \u001b[0;32mIn [7]\u001b[0m, in \u001b[0;36m<cell line: 4>\u001b[0;34m()\u001b[0m\n\u001b[1;32m      1\u001b[0m \u001b[38;5;28;01mimport\u001b[39;00m \u001b[38;5;21;01msys\u001b[39;00m\n\u001b[1;32m      3\u001b[0m sys\u001b[38;5;241m.\u001b[39mpath\u001b[38;5;241m.\u001b[39mappend(\u001b[38;5;124m\"\u001b[39m\u001b[38;5;124m/Users/pz1zy9/dev/bd/scratches/aoc/2023/5\u001b[39m\u001b[38;5;124m\"\u001b[39m)\n\u001b[0;32m----> 4\u001b[0m \u001b[38;5;28;01mfrom\u001b[39;00m \u001b[38;5;21;01m.\u001b[39;00m\u001b[38;5;21;01m.\u001b[39;00m\u001b[38;5;21;01mcyutils\u001b[39;00m \u001b[38;5;28;01mimport\u001b[39;00m find_locs\n\u001b[1;32m      7\u001b[0m \u001b[38;5;28;01mwith\u001b[39;00m \u001b[38;5;28mopen\u001b[39m(inp) \u001b[38;5;28;01mas\u001b[39;00m f:\n\u001b[1;32m      8\u001b[0m     \u001b[38;5;66;03m# parse seeds:\u001b[39;00m\n\u001b[1;32m      9\u001b[0m     lines \u001b[38;5;241m=\u001b[39m [line\u001b[38;5;241m.\u001b[39mstrip(\u001b[38;5;124m\"\u001b[39m\u001b[38;5;130;01m\\n\u001b[39;00m\u001b[38;5;124m\"\u001b[39m) \u001b[38;5;28;01mfor\u001b[39;00m line \u001b[38;5;129;01min\u001b[39;00m f\u001b[38;5;241m.\u001b[39mreadlines()]\n",
      "\u001b[0;31mImportError\u001b[0m: attempted relative import with no known parent package"
     ]
    }
   ],
   "source": [
    "import sys\n",
    "\n",
    "sys.path.append(\"/Users/pz1zy9/dev/bd/scratches/aoc/2023/5\")\n",
    "from cyutils import find_locs\n",
    "\n",
    "\n",
    "with open(inp) as f:\n",
    "    # parse seeds:\n",
    "    lines = [line.strip(\"\\n\") for line in f.readlines()]\n",
    "    \n",
    "\n",
    "seeds = convert_to_ints(lines[0])\n",
    "\n",
    "find_locs(seeds, lines)"
   ]
  },
  {
   "cell_type": "code",
   "execution_count": 3,
   "id": "c681073a",
   "metadata": {},
   "outputs": [
    {
     "ename": "ModuleNotFoundError",
     "evalue": "No module named 'cyutils'",
     "output_type": "error",
     "traceback": [
      "\u001b[0;31m---------------------------------------------------------------------------\u001b[0m",
      "\u001b[0;31mModuleNotFoundError\u001b[0m                       Traceback (most recent call last)",
      "Input \u001b[0;32mIn [3]\u001b[0m, in \u001b[0;36m<cell line: 1>\u001b[0;34m()\u001b[0m\n\u001b[0;32m----> 1\u001b[0m \u001b[38;5;28;01mimport\u001b[39;00m \u001b[38;5;21;01mcyutils\u001b[39;00m\n",
      "\u001b[0;31mModuleNotFoundError\u001b[0m: No module named 'cyutils'"
     ]
    }
   ],
   "source": []
  },
  {
   "cell_type": "code",
   "execution_count": null,
   "id": "8ba6e7df",
   "metadata": {},
   "outputs": [],
   "source": []
  }
 ],
 "metadata": {
  "kernelspec": {
   "display_name": "Python 3 (ipykernel)",
   "language": "python",
   "name": "python3"
  },
  "language_info": {
   "codemirror_mode": {
    "name": "ipython",
    "version": 3
   },
   "file_extension": ".py",
   "mimetype": "text/x-python",
   "name": "python",
   "nbconvert_exporter": "python",
   "pygments_lexer": "ipython3",
   "version": "3.10.4"
  }
 },
 "nbformat": 4,
 "nbformat_minor": 5
}
