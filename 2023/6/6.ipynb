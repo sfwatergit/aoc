{
 "cells": [
  {
   "cell_type": "code",
   "execution_count": null,
   "id": "6ea0e3fd",
   "metadata": {},
   "outputs": [],
   "source": [
    "import re\n",
    "from math import prod\n",
    "\n",
    "def convert_to_ints(num_str):\n",
    "    return [int(d.group()) for d in re.finditer(\"\\d+\",num_str)]\n",
    "\n",
    "# Part 1\n",
    "\n",
    "inp = \"test.txt\"\n",
    "# inp = \"../input/6.txt\"\n",
    "\n",
    "with open(inp) as f:\n",
    "    lines = [line.strip(\"\\n\") for line in f.readlines()]\n",
    "    \n",
    "times = convert_to_ints(lines[0])\n",
    "distances = convert_to_ints(lines[1])\n",
    "\n",
    "races = zip(times,distances)\n",
    "\n",
    "def compute_num_options(time, record):\n",
    "    distances = []\n",
    "    for s in range(1,time):\n",
    "        run_time = time-s\n",
    "        distances.append(s*run_time)\n",
    "    return len([dist for dist in distances if dist>record])\n",
    "\n",
    "\n",
    "prod([compute_num_options(time,record) for time,record in races])"
   ]
  },
  {
   "cell_type": "code",
   "execution_count": null,
   "id": "b4824613",
   "metadata": {},
   "outputs": [],
   "source": [
    "# Part 2\n",
    "\n",
    "times = [int(\"\".join(map(str,times)))]\n",
    "distances = [int(\"\".join(map(str,distances)))]\n",
    "\n",
    "races = zip(times,distances)\n",
    "\n",
    "prod([compute_num_options(time,record) for time,record in races])"
   ]
  }
 ],
 "metadata": {
  "kernelspec": {
   "display_name": "Python 3 (ipykernel)",
   "language": "python",
   "name": "python3"
  },
  "language_info": {
   "codemirror_mode": {
    "name": "ipython",
    "version": 3
   },
   "file_extension": ".py",
   "mimetype": "text/x-python",
   "name": "python",
   "nbconvert_exporter": "python",
   "pygments_lexer": "ipython3",
   "version": "3.10.4"
  }
 },
 "nbformat": 4,
 "nbformat_minor": 5
}
