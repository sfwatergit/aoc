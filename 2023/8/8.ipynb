{
 "cells": [
  {
   "cell_type": "code",
   "execution_count": null,
   "id": "52c24288",
   "metadata": {},
   "outputs": [],
   "source": [
    "import re\n",
    "import itertools\n",
    "\n",
    "# inp = \"../input/8.txt\"\n",
    "inp = \"test1.txt\"\n",
    "\n",
    "with open(inp) as f:\n",
    "    lines = [l.strip(\"\\n\") for l in f.readlines()]\n",
    "\n",
    "inst = lines[0]\n",
    "\n",
    "nodes = [l.split(\" = \") for l in lines[2:]]\n",
    "\n",
    "net = {}\n",
    "for node,outs in nodes:\n",
    "    outs=[a.group() for a in re.finditer(\"[A-Z]+\",outs)]\n",
    "    net[node] = outs\n",
    "\n",
    "STEP_MAP = {'L':0,'R':1}\n",
    "    \n",
    "n_s = 0\n",
    "next_node = \"AAA\"\n",
    "\n",
    "for step in itertools.cycle(inst):\n",
    "    next_node = net[next_node][STEP_MAP[step]]\n",
    "    n_s+=1\n",
    "    if next_node == \"ZZZ\":\n",
    "        break\n",
    "n_s"
   ]
  },
  {
   "cell_type": "code",
   "execution_count": 12,
   "id": "c64d9fb2",
   "metadata": {},
   "outputs": [
    {
     "name": "stdout",
     "output_type": "stream",
     "text": [
      "9.53 ms ± 933 µs per loop (mean ± std. dev. of 7 runs, 100 loops each)\n"
     ]
    }
   ],
   "source": [
    "from math import lcm\n",
    "\n",
    "STEP_MAP = {'L':0,'R':1}\n",
    "\n",
    "inp = \"../input/8.txt\"\n",
    "# inp = \"test2.txt\"\n",
    "\n",
    "with open(inp) as f:\n",
    "    lines = [l.strip(\"\\n\") for l in f.readlines()]\n",
    "\n",
    "inst = lines[0]\n",
    "\n",
    "nodes = [l.split(\" = \") for l in lines[2:]]\n",
    "\n",
    "net = {}\n",
    "for node,outs in nodes:\n",
    "    outs=[a.group() for a in re.finditer(\"[A-Z1-9]+\",outs)]\n",
    "    net[node] = outs\n",
    "\n",
    "curr_nodes = [a for a in net.keys() if \"A\" in a]\n",
    "\n",
    "node_steps = []\n",
    "for next_node in curr_nodes:\n",
    "    n_s = 0\n",
    "    for step in itertools.cycle(inst):\n",
    "        next_node = net[next_node][STEP_MAP[step]]\n",
    "        n_s+=1\n",
    "        \n",
    "        if \"Z\" in next_node:\n",
    "            break\n",
    "    node_steps.append(n_s)\n",
    "    \n",
    "lcm(*node_steps)"
   ]
  }
 ],
 "metadata": {
  "kernelspec": {
   "display_name": "Python 3 (ipykernel)",
   "language": "python",
   "name": "python3"
  },
  "language_info": {
   "codemirror_mode": {
    "name": "ipython",
    "version": 3
   },
   "file_extension": ".py",
   "mimetype": "text/x-python",
   "name": "python",
   "nbconvert_exporter": "python",
   "pygments_lexer": "ipython3",
   "version": "3.10.4"
  }
 },
 "nbformat": 4,
 "nbformat_minor": 5
}
