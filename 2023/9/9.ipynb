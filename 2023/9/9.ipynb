{
 "cells": [
  {
   "cell_type": "code",
   "execution_count": 251,
   "id": "8f446e92",
   "metadata": {},
   "outputs": [
    {
     "name": "stdout",
     "output_type": "stream",
     "text": [
      "Part 1: 114\n",
      "Part 2: 11\n"
     ]
    }
   ],
   "source": [
    "import re\n",
    "import itertools\n",
    "\n",
    "# Part 1 and 2\n",
    "\n",
    "inp = \"test.txt\"\n",
    "# inp = \"../input/9.txt\"\n",
    "\n",
    "with open(inp) as f:\n",
    "    seqs = [[int(i) for i in l.split(' ')] for l in f.readlines()]\n",
    "\n",
    "oasis = []\n",
    "oasis2 = []\n",
    "for sid,seq in enumerate(seqs):\n",
    "    lasts = [seq[-1]]\n",
    "    firsts = [seq[0]]\n",
    "    while True:\n",
    "        diffs = [p1-p0 for p0,p1 in itertools.pairwise(seq)]\n",
    "        lasts.append(diffs[-1])\n",
    "        firsts.append(diffs[0])\n",
    "        if all([i == 0 for i in diffs]):\n",
    "            break\n",
    "        seq = diffs\n",
    "    oasis.append(sum(lasts))\n",
    "#     for i in range(len(firsts)-2,-1,-1):\n",
    "#         firsts[i]-=firsts[i+1]\n",
    "    oasis2.append(firsts[0])\n",
    "        \n",
    "        \n",
    "print(f\"Part 1: {sum(oasis)}\")\n",
    "print(f\"Part 2: {sum(oasis2)}\")"
   ]
  },
  {
   "cell_type": "code",
   "execution_count": 252,
   "id": "54b8a703",
   "metadata": {},
   "outputs": [
    {
     "data": {
      "text/plain": [
       "[10, 3, 0, 2, 0]"
      ]
     },
     "execution_count": 252,
     "metadata": {},
     "output_type": "execute_result"
    }
   ],
   "source": [
    "[firsts"
   ]
  },
  {
   "cell_type": "code",
   "execution_count": null,
   "id": "7a2b916f",
   "metadata": {},
   "outputs": [],
   "source": []
  }
 ],
 "metadata": {
  "kernelspec": {
   "display_name": "Python 3 (ipykernel)",
   "language": "python",
   "name": "python3"
  },
  "language_info": {
   "codemirror_mode": {
    "name": "ipython",
    "version": 3
   },
   "file_extension": ".py",
   "mimetype": "text/x-python",
   "name": "python",
   "nbconvert_exporter": "python",
   "pygments_lexer": "ipython3",
   "version": "3.10.4"
  }
 },
 "nbformat": 4,
 "nbformat_minor": 5
}
