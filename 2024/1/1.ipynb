{
 "cells": [
  {
   "cell_type": "code",
   "execution_count": 13,
   "metadata": {},
   "outputs": [
    {
     "name": "stdout",
     "output_type": "stream",
     "text": [
      "11\n"
     ]
    }
   ],
   "source": [
    "from collections import Counter\n",
    "\n",
    "# inp = '../input/1.txt'\n",
    "inp = './test.txt'\n",
    "\n",
    "with open(inp, 'r') as f:\n",
    "    xs, ys = [], []\n",
    "    for line in f.readlines():\n",
    "        line = line.strip(\"\\n\")\n",
    "        x, y = line.split('  ')\n",
    "        x = int(x)\n",
    "        y = int(y)\n",
    "        xs.append(x)\n",
    "        ys.append(y)\n",
    "\n",
    "xs = sorted(xs)\n",
    "ys = sorted(ys)\n",
    "\n",
    "total_1 = 0\n",
    "for x,y in zip(xs, ys):\n",
    "    total_1 += abs(x-y)\n",
    "\n",
    "print(total_1)"
   ]
  },
  {
   "cell_type": "code",
   "execution_count": 14,
   "metadata": {},
   "outputs": [
    {
     "name": "stdout",
     "output_type": "stream",
     "text": [
      "31\n"
     ]
    }
   ],
   "source": [
    "from collections import Counter\n",
    "y_counts = Counter(ys)\n",
    "\n",
    "total_2 = 0\n",
    "for x in xs:\n",
    "    if y_counts[x] > 0:\n",
    "        total_2+= x*y_counts[x]\n",
    "print(total_2)"
   ]
  }
 ],
 "metadata": {
  "kernelspec": {
   "display_name": "ide-demo-mY_9a2Y3",
   "language": "python",
   "name": "python3"
  },
  "language_info": {
   "codemirror_mode": {
    "name": "ipython",
    "version": 3
   },
   "file_extension": ".py",
   "mimetype": "text/x-python",
   "name": "python",
   "nbconvert_exporter": "python",
   "pygments_lexer": "ipython3",
   "version": "3.10.4"
  }
 },
 "nbformat": 4,
 "nbformat_minor": 2
}
