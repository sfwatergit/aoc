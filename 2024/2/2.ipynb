{
 "cells": [
  {
   "cell_type": "code",
   "execution_count": 58,
   "metadata": {},
   "outputs": [],
   "source": [
    "def is_safe(line):\n",
    "    for a, b in zip(line, line[1:]):\n",
    "        if (line[0] > line[1] and (a<b) or (abs(a-b) not in (1,2,3))) \\\n",
    "            or (line[0] < line[1] and (a>b) or (abs(b-a) not in (1,2,3))):\n",
    "            return False\n",
    "    return True"
   ]
  },
  {
   "cell_type": "code",
   "execution_count": null,
   "metadata": {},
   "outputs": [
    {
     "name": "stdout",
     "output_type": "stream",
     "text": [
      "421\n",
      "476\n"
     ]
    }
   ],
   "source": [
    "# Part 1 + 2\n",
    "inp = \"../input/2.txt\"\n",
    "\n",
    "tot_1 = 0\n",
    "tot_2 = 0\n",
    "with open(inp, 'r') as f:\n",
    "    for line in f.readlines():\n",
    "        line = [int(n) for n in line.strip(\"\\n\").split(\" \")]\n",
    "        tot_1 += is_safe(line)\n",
    "        for ei in range(len(line)):\n",
    "            if is_safe(line[:ei]+line[ei+1:]):\n",
    "                tot_2 += 1\n",
    "                break\n",
    "\n",
    "print(tot_1, tot_2)\n",
    "\n",
    "                \n"
   ]
  }
 ],
 "metadata": {
  "kernelspec": {
   "display_name": "ide-demo-mY_9a2Y3",
   "language": "python",
   "name": "python3"
  },
  "language_info": {
   "codemirror_mode": {
    "name": "ipython",
    "version": 3
   },
   "file_extension": ".py",
   "mimetype": "text/x-python",
   "name": "python",
   "nbconvert_exporter": "python",
   "pygments_lexer": "ipython3",
   "version": "3.10.4"
  }
 },
 "nbformat": 4,
 "nbformat_minor": 2
}
