{
 "cells": [
  {
   "cell_type": "code",
   "execution_count": 30,
   "metadata": {},
   "outputs": [
    {
     "name": "stdout",
     "output_type": "stream",
     "text": [
      "Part 1: 173419328\n",
      "Part 2: 90669332\n"
     ]
    }
   ],
   "source": [
    "import re\n",
    "inp = \"../input/3.txt\"\n",
    "\n",
    "with open(inp,'r') as f:\n",
    "    text = f.read()\n",
    "    pattern = r\"mul\\(\\d+,\\d+\\)|do\\(\\)|don't\\(\\)\"\n",
    "    matches = re.findall(pattern, text)\n",
    "    tot_1 = 0\n",
    "    tot_2 = 0\n",
    "    on = True\n",
    "    for match in matches:\n",
    "        if match == \"don't()\":\n",
    "            on = False\n",
    "        elif match == \"do()\":\n",
    "            on = True\n",
    "        else:\n",
    "            ans = re.findall(r\"\\d+\", match)\n",
    "            prod = int(ans[0])*int(ans[1])\n",
    "            if on:\n",
    "                tot_2+=prod\n",
    "            tot_1 += prod\n",
    "\n",
    "print(f\"Part 1: {tot_1}\")\n",
    "print(f\"Part 2: {tot_2}\")"
   ]
  }
 ],
 "metadata": {
  "kernelspec": {
   "display_name": "ide-demo-mY_9a2Y3",
   "language": "python",
   "name": "python3"
  },
  "language_info": {
   "codemirror_mode": {
    "name": "ipython",
    "version": 3
   },
   "file_extension": ".py",
   "mimetype": "text/x-python",
   "name": "python",
   "nbconvert_exporter": "python",
   "pygments_lexer": "ipython3",
   "version": "3.10.4"
  }
 },
 "nbformat": 4,
 "nbformat_minor": 2
}
